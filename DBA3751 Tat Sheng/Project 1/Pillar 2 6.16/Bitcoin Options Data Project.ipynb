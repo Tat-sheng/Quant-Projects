{
 "cells": [
  {
   "attachments": {},
   "cell_type": "markdown",
   "metadata": {},
   "source": [
    "## Excercise 6.16"
   ]
  },
  {
   "cell_type": "code",
   "execution_count": 248,
   "metadata": {},
   "outputs": [],
   "source": [
    "# Expect this program to run for 30 minutes or more\n",
    "# Load package\n",
    "import numpy as np\n",
    "from scipy.stats import norm\n",
    "import random\n",
    "import matplotlib.pyplot as plt\n",
    "import numpy as np\n",
    "import pandas as pd\n",
    "\n",
    "\n",
    "from sklearn.model_selection import train_test_split\n",
    "from sklearn.linear_model import LinearRegression\n",
    "from sklearn.metrics import mean_squared_error\n",
    "from sklearn.preprocessing import StandardScaler\n",
    "\n",
    "\n",
    "import tensorflow as tf\n",
    "from tensorflow.keras.layers import Dense\n",
    "from tensorflow import keras\n",
    "\n",
    "from numpy.random import seed\n",
    "seed(100)\n",
    "\n",
    "import matplotlib.pyplot as plt\n",
    "from IPython.display import clear_output\n",
    "\n",
    "n = norm.pdf\n",
    "N = norm.cdf\n",
    "\n",
    "import warnings\n",
    "warnings.filterwarnings(\"ignore\")"
   ]
  },
  {
   "attachments": {},
   "cell_type": "markdown",
   "metadata": {},
   "source": [
    "## Basic: Intitial task exploring NN"
   ]
  },
  {
   "cell_type": "code",
   "execution_count": 249,
   "metadata": {},
   "outputs": [
    {
     "data": {
      "text/html": [
       "<div>\n",
       "<style scoped>\n",
       "    .dataframe tbody tr th:only-of-type {\n",
       "        vertical-align: middle;\n",
       "    }\n",
       "\n",
       "    .dataframe tbody tr th {\n",
       "        vertical-align: top;\n",
       "    }\n",
       "\n",
       "    .dataframe thead th {\n",
       "        text-align: right;\n",
       "    }\n",
       "</style>\n",
       "<table border=\"1\" class=\"dataframe\">\n",
       "  <thead>\n",
       "    <tr style=\"text-align: right;\">\n",
       "      <th></th>\n",
       "      <th>Spot price</th>\n",
       "      <th>Strike Price</th>\n",
       "      <th>Risk Free Rate</th>\n",
       "      <th>Volatility</th>\n",
       "      <th>Maturity</th>\n",
       "      <th>Dividend</th>\n",
       "      <th>Option Price</th>\n",
       "      <th>Noise</th>\n",
       "      <th>Option Price with Noise</th>\n",
       "    </tr>\n",
       "  </thead>\n",
       "  <tbody>\n",
       "    <tr>\n",
       "      <th>0</th>\n",
       "      <td>55.84</td>\n",
       "      <td>72.592</td>\n",
       "      <td>0.013</td>\n",
       "      <td>0.276</td>\n",
       "      <td>1.78</td>\n",
       "      <td>0</td>\n",
       "      <td>3.569203</td>\n",
       "      <td>-0.262465</td>\n",
       "      <td>3.306738</td>\n",
       "    </tr>\n",
       "    <tr>\n",
       "      <th>1</th>\n",
       "      <td>57.96</td>\n",
       "      <td>34.776</td>\n",
       "      <td>0.033</td>\n",
       "      <td>0.171</td>\n",
       "      <td>0.85</td>\n",
       "      <td>0</td>\n",
       "      <td>24.146475</td>\n",
       "      <td>0.051402</td>\n",
       "      <td>24.197877</td>\n",
       "    </tr>\n",
       "    <tr>\n",
       "      <th>2</th>\n",
       "      <td>43.70</td>\n",
       "      <td>52.440</td>\n",
       "      <td>0.041</td>\n",
       "      <td>0.262</td>\n",
       "      <td>1.19</td>\n",
       "      <td>0</td>\n",
       "      <td>2.764509</td>\n",
       "      <td>0.172955</td>\n",
       "      <td>2.937464</td>\n",
       "    </tr>\n",
       "  </tbody>\n",
       "</table>\n",
       "</div>"
      ],
      "text/plain": [
       "   Spot price  Strike Price  Risk Free Rate  Volatility  Maturity  Dividend  \\\n",
       "0       55.84        72.592           0.013       0.276      1.78         0   \n",
       "1       57.96        34.776           0.033       0.171      0.85         0   \n",
       "2       43.70        52.440           0.041       0.262      1.19         0   \n",
       "\n",
       "   Option Price     Noise  Option Price with Noise  \n",
       "0      3.569203 -0.262465                 3.306738  \n",
       "1     24.146475  0.051402                24.197877  \n",
       "2      2.764509  0.172955                 2.937464  "
      ]
     },
     "execution_count": 249,
     "metadata": {},
     "output_type": "execute_result"
    }
   ],
   "source": [
    "# Load option data \n",
    "option_dataset = pd.read_csv('Option_Data.csv')\n",
    "option_dataset.head(3)"
   ]
  },
  {
   "cell_type": "code",
   "execution_count": 250,
   "metadata": {},
   "outputs": [],
   "source": [
    "# Include option price with and without noise in data set splitting for later BS mean error calculation on test set\n",
    "y_ = option_dataset[['Option Price with Noise','Option Price']]\n",
    "X_ = option_dataset[['Spot price', 'Strike Price', 'Risk Free Rate','Volatility','Maturity','Dividend']]\n",
    "\n",
    "# Divide data into training set and test set(note that random seed is set)\n",
    "X_train,X_test,y_train,y_test=train_test_split(X_,y_,test_size=0.5,random_state=100)\n",
    "\n",
    "# Divide training set into training and validation set\n",
    "X_train,X_val,y_train,y_val=train_test_split(X_train,y_train,test_size=0.5,random_state=100)"
   ]
  },
  {
   "cell_type": "code",
   "execution_count": 251,
   "metadata": {},
   "outputs": [],
   "source": [
    "# Scale features based on Z-Score\n",
    "scaler = StandardScaler()\n",
    "scaler.fit(X_train)\n",
    "\n",
    "\n",
    "X_scaled_train = scaler.transform(X_train)\n",
    "X_scaled_vals = scaler.transform(X_val)\n",
    "X_scaled_test = scaler.transform(X_test)\n",
    "y_train = np.asarray(y_train)\n",
    "y_val = np.asarray(y_val)\n",
    "y_test = np.asarray(y_test)"
   ]
  },
  {
   "cell_type": "code",
   "execution_count": 252,
   "metadata": {},
   "outputs": [],
   "source": [
    "# Base model\n",
    "model = keras.models.Sequential([Dense(20,activation = \"sigmoid\",input_shape = (6,)),\n",
    "                                 Dense(20,activation = \"sigmoid\"),Dense(20,activation = \"sigmoid\"),\n",
    "                                Dense(1)])\n",
    "\n",
    "# Changing the number of hidden layers\n",
    "two_layers = keras.models.Sequential([Dense(20,activation = \"sigmoid\",input_shape = (6,)),\n",
    "                                 Dense(20,activation = \"sigmoid\"),Dense(20,activation = \"sigmoid\"),\n",
    "                                 Dense(20,activation = \"sigmoid\"),Dense(20,activation = \"sigmoid\"),\n",
    "                                Dense(1)])\n",
    "\n",
    "three_layers = keras.models.Sequential([Dense(20,activation = \"sigmoid\",input_shape = (6,)),\n",
    "                                 Dense(20,activation = \"sigmoid\"),Dense(20,activation = \"sigmoid\"),\n",
    "                                 Dense(20,activation = \"sigmoid\"),Dense(20,activation = \"sigmoid\"),\n",
    "                                 Dense(20,activation = \"sigmoid\"),Dense(20,activation = \"sigmoid\"),\n",
    "                                Dense(1)])\n",
    "\n",
    "# Changing the number of neurons\n",
    "fewer_neurons = keras.models.Sequential([Dense(10,activation = \"sigmoid\",input_shape = (6,)),\n",
    "                                 Dense(10,activation = \"sigmoid\"),Dense(10,activation = \"sigmoid\"),\n",
    "                                Dense(1)])\n",
    "\n",
    "more_neurons = keras.models.Sequential([Dense(10,activation = \"sigmoid\",input_shape = (6,)),\n",
    "                                 Dense(10,activation = \"sigmoid\"),Dense(10,activation = \"sigmoid\"),\n",
    "                                Dense(1)])\n",
    "\n",
    "# List for all the models\n",
    "models = [model, two_layers, three_layers, fewer_neurons, more_neurons]"
   ]
  },
  {
   "cell_type": "code",
   "execution_count": 253,
   "metadata": {},
   "outputs": [
    {
     "name": "stdout",
     "output_type": "stream",
     "text": [
      "Model: \"sequential_47\"\n",
      "_________________________________________________________________\n",
      " Layer (type)                Output Shape              Param #   \n",
      "=================================================================\n",
      " dense_174 (Dense)           (None, 20)                140       \n",
      "                                                                 \n",
      " dense_175 (Dense)           (None, 20)                420       \n",
      "                                                                 \n",
      " dense_176 (Dense)           (None, 20)                420       \n",
      "                                                                 \n",
      " dense_177 (Dense)           (None, 1)                 21        \n",
      "                                                                 \n",
      "=================================================================\n",
      "Total params: 1,001\n",
      "Trainable params: 1,001\n",
      "Non-trainable params: 0\n",
      "_________________________________________________________________\n"
     ]
    }
   ],
   "source": [
    "model.summary()"
   ]
  },
  {
   "cell_type": "code",
   "execution_count": 254,
   "metadata": {},
   "outputs": [],
   "source": [
    "# Complie function allows you to choose your measure of loss and optimzer\n",
    "for mdl in models:\n",
    "    mdl.compile(loss = \"mae\",optimizer = \"Adam\")\n",
    "\n",
    "# Create checkpoints abd early stop files for each model\n",
    "checkpoints, early_stops = [], []\n",
    "for n, mdl in enumerate(models, 1):\n",
    "    checkpoints.append(keras.callbacks.ModelCheckpoint(\"Model \" + str(n) + \".h5\",save_best_only = True))\n",
    "    early_stops.append(keras.callbacks.EarlyStopping(patience = 5000,restore_best_weights = True))\n",
    "    \n",
    "# Training with callback\n",
    "history_ = []\n",
    "for ind, mdl in enumerate(models, 0): \n",
    "    history_.append(mdl.fit(X_scaled_train,y_train[:,0],\n",
    "                            epochs= 10000,verbose = 0, \n",
    "                            validation_data=(X_scaled_vals,y_val[:,0]),\n",
    "                callbacks=[checkpoints[ind],early_stops[ind]]))"
   ]
  },
  {
   "cell_type": "code",
   "execution_count": 255,
   "metadata": {},
   "outputs": [
    {
     "name": "stdout",
     "output_type": "stream",
     "text": [
      "157/157 [==============================] - 0s 449us/step\n",
      "157/157 [==============================] - 0s 443us/step\n",
      "157/157 [==============================] - 0s 436us/step\n",
      "157/157 [==============================] - 0s 423us/step\n",
      "157/157 [==============================] - 0s 423us/step\n"
     ]
    }
   ],
   "source": [
    "# Load the best models saved and calcuate MAE for testing set for each case\n",
    "model_names = [\"Model \" + str(i) for i in range(1,6)]\n",
    "mae_test_vals, mean_error, std_error, mean_error_vs_BS_price, std_error_vs_BS_price, BS_mean_error, BS_std_error = [],[],[],[],[],[],[]\n",
    "\n",
    "for ind, mdl in enumerate(models, 0):\n",
    "    temp_model = keras.models.load_model(str(model_names[ind])+\".h5\")\n",
    "    mae_test_vals.append(mdl.evaluate(X_scaled_test,y_test[:,0],verbose= 0))\n",
    "\n",
    "    # Obtain each models predictions\n",
    "    model_prediction = mdl.predict(X_scaled_test)\n",
    "\n",
    "    # Black Scholes Statistics\n",
    "    mean_error.append(np.average(model_prediction.T - y_test[:,0])) # Mean error on test set\n",
    "    std_error.append(np.std(model_prediction.T - y_test[:,0])) # Standard deviation of error on test set\n",
    "\n",
    "    # Neural Network Statistics\n",
    "    mean_error_vs_BS_price.append(np.average(model_prediction.T - y_test[:,1])) # Mean error on test set vs. option price with noise\n",
    "    std_error_vs_BS_price.append(np.std(model_prediction.T - y_test[:,1])) # Standard deviation of error on test set vs. option price with noise\n",
    "    BS_mean_error.append(np.average(y_test[:,0] - y_test[:,1])) # Mean error on test set vs. BS analytical formula price\n",
    "    BS_std_error.append(np.std(y_test[:,0] - y_test[:,1]))# Standard deviation of error on "
   ]
  },
  {
   "cell_type": "code",
   "execution_count": 256,
   "metadata": {},
   "outputs": [
    {
     "data": {
      "text/html": [
       "<div>\n",
       "<style scoped>\n",
       "    .dataframe tbody tr th:only-of-type {\n",
       "        vertical-align: middle;\n",
       "    }\n",
       "\n",
       "    .dataframe tbody tr th {\n",
       "        vertical-align: top;\n",
       "    }\n",
       "\n",
       "    .dataframe thead th {\n",
       "        text-align: right;\n",
       "    }\n",
       "</style>\n",
       "<table border=\"1\" class=\"dataframe\">\n",
       "  <thead>\n",
       "    <tr style=\"text-align: right;\">\n",
       "      <th></th>\n",
       "      <th>MAE test values</th>\n",
       "      <th>Mean Error</th>\n",
       "      <th>Std error</th>\n",
       "      <th>Mean error vs BS price</th>\n",
       "      <th>Std error vs BS price</th>\n",
       "      <th>BS mean error</th>\n",
       "      <th>BS std error</th>\n",
       "    </tr>\n",
       "  </thead>\n",
       "  <tbody>\n",
       "    <tr>\n",
       "      <th>Base</th>\n",
       "      <td>0.124232</td>\n",
       "      <td>-0.010693</td>\n",
       "      <td>0.156793</td>\n",
       "      <td>-0.007305</td>\n",
       "      <td>0.054595</td>\n",
       "      <td>0.003388</td>\n",
       "      <td>0.148538</td>\n",
       "    </tr>\n",
       "    <tr>\n",
       "      <th>Add 1 Hidden Layers</th>\n",
       "      <td>0.125323</td>\n",
       "      <td>-0.016027</td>\n",
       "      <td>0.156818</td>\n",
       "      <td>-0.012639</td>\n",
       "      <td>0.054904</td>\n",
       "      <td>0.003388</td>\n",
       "      <td>0.148538</td>\n",
       "    </tr>\n",
       "    <tr>\n",
       "      <th>Add 2 Hidden Layers</th>\n",
       "      <td>0.125010</td>\n",
       "      <td>-0.012028</td>\n",
       "      <td>0.157305</td>\n",
       "      <td>-0.008641</td>\n",
       "      <td>0.056011</td>\n",
       "      <td>0.003388</td>\n",
       "      <td>0.148538</td>\n",
       "    </tr>\n",
       "    <tr>\n",
       "      <th>Reduced Neurons</th>\n",
       "      <td>0.130632</td>\n",
       "      <td>0.023391</td>\n",
       "      <td>0.162280</td>\n",
       "      <td>0.026779</td>\n",
       "      <td>0.066295</td>\n",
       "      <td>0.003388</td>\n",
       "      <td>0.148538</td>\n",
       "    </tr>\n",
       "    <tr>\n",
       "      <th>Increased Neurons</th>\n",
       "      <td>0.135018</td>\n",
       "      <td>-0.023999</td>\n",
       "      <td>0.168813</td>\n",
       "      <td>-0.020612</td>\n",
       "      <td>0.080065</td>\n",
       "      <td>0.003388</td>\n",
       "      <td>0.148538</td>\n",
       "    </tr>\n",
       "  </tbody>\n",
       "</table>\n",
       "</div>"
      ],
      "text/plain": [
       "                     MAE test values  Mean Error  Std error  \\\n",
       "Base                        0.124232   -0.010693   0.156793   \n",
       "Add 1 Hidden Layers         0.125323   -0.016027   0.156818   \n",
       "Add 2 Hidden Layers         0.125010   -0.012028   0.157305   \n",
       "Reduced Neurons             0.130632    0.023391   0.162280   \n",
       "Increased Neurons           0.135018   -0.023999   0.168813   \n",
       "\n",
       "                     Mean error vs BS price  Std error vs BS price  \\\n",
       "Base                              -0.007305               0.054595   \n",
       "Add 1 Hidden Layers               -0.012639               0.054904   \n",
       "Add 2 Hidden Layers               -0.008641               0.056011   \n",
       "Reduced Neurons                    0.026779               0.066295   \n",
       "Increased Neurons                 -0.020612               0.080065   \n",
       "\n",
       "                     BS mean error  BS std error  \n",
       "Base                      0.003388      0.148538  \n",
       "Add 1 Hidden Layers       0.003388      0.148538  \n",
       "Add 2 Hidden Layers       0.003388      0.148538  \n",
       "Reduced Neurons           0.003388      0.148538  \n",
       "Increased Neurons         0.003388      0.148538  "
      ]
     },
     "execution_count": 256,
     "metadata": {},
     "output_type": "execute_result"
    }
   ],
   "source": [
    "# Naming conventions\n",
    "model_tags = [\"Base\", \"Add 1 Hidden Layers\", \"Add 2 Hidden Layers\", \"Reduced Neurons\", \"Increased Neurons\"]\n",
    "metrics_tags = [\"MAE test values\", \"Mean Error\", \"Std error\", \"Mean error vs BS price\", \"Std error vs BS price\", \"BS mean error\", \"BS std error\"]\n",
    "\n",
    "# Map variables\n",
    "res_ = list(zip(mae_test_vals, mean_error, std_error, mean_error_vs_BS_price, std_error_vs_BS_price, BS_mean_error, BS_std_error))\n",
    "results = pd.DataFrame(res_, index=model_tags, columns = metrics_tags)\n",
    "\n",
    "# Print results\n",
    "results"
   ]
  },
  {
   "cell_type": "code",
   "execution_count": 257,
   "metadata": {},
   "outputs": [
    {
     "name": "stdout",
     "output_type": "stream",
     "text": [
      "Model 1: Base\n"
     ]
    },
    {
     "data": {
      "image/png": "[encoded data removed]",
      "text/plain": [
       "<Figure size 576x360 with 1 Axes>"
      ]
     },
     "metadata": {
      "needs_background": "light"
     },
     "output_type": "display_data"
    },
    {
     "name": "stdout",
     "output_type": "stream",
     "text": [
      "Model 2: Add 1 Hidden Layers\n"
     ]
    },
    {
     "data": {
      "image/png": "[encoded data removed]",
      "text/plain": [
       "<Figure size 576x360 with 1 Axes>"
      ]
     },
     "metadata": {
      "needs_background": "light"
     },
     "output_type": "display_data"
    },
    {
     "name": "stdout",
     "output_type": "stream",
     "text": [
      "Model 3: Add 2 Hidden Layers\n"
     ]
    },
    {
     "data": {
      "image/png": "[encoded data removed]",
      "text/plain": [
       "<Figure size 576x360 with 1 Axes>"
      ]
     },
     "metadata": {
      "needs_background": "light"
     },
     "output_type": "display_data"
    },
    {
     "name": "stdout",
     "output_type": "stream",
     "text": [
      "Model 4: Reduced Neurons\n"
     ]
    },
    {
     "data": {
      "image/png": "[encoded data removed]",
      "text/plain": [
       "<Figure size 576x360 with 1 Axes>"
      ]
     },
     "metadata": {
      "needs_background": "light"
     },
     "output_type": "display_data"
    },
    {
     "name": "stdout",
     "output_type": "stream",
     "text": [
      "Model 5: Increased Neurons\n"
     ]
    },
    {
     "data": {
      "image/png": "[encoded data removed]",
      "text/plain": [
       "<Figure size 576x360 with 1 Axes>"
      ]
     },
     "metadata": {
      "needs_background": "light"
     },
     "output_type": "display_data"
    }
   ],
   "source": [
    "# Plot training history\n",
    "for n, hist in enumerate(history_, 0): \n",
    "    print(\"Model \" + str(n+1) + \": \"+ str(model_tags[n])) \n",
    "    pd.DataFrame(hist.history).plot(figsize=(8,5))\n",
    "    plt.show()"
   ]
  },
  {
   "attachments": {},
   "cell_type": "markdown",
   "metadata": {},
   "source": [
    "## Advanced: Adding Bitcoin options & NN Hyperparameter tuning with Keras Tuner"
   ]
  },
  {
   "cell_type": "code",
   "execution_count": 258,
   "metadata": {},
   "outputs": [],
   "source": [
    "\"\"\" Download CC-Option Data from Deribit via public API \"\"\"\n",
    "\n",
    "\"\"\"\n",
    "Source\n",
    "Matteo Bottacini -- matteo.bottacini@usi.ch\n",
    "Last Update: February 21, 2021\n",
    "\"\"\"\n",
    "\n",
    "# import modules\n",
    "import json\n",
    "import requests\n",
    "from tqdm import tqdm\n",
    "import sqlite3\n",
    "import datetime\n",
    "\n",
    "\n",
    "# functions\n",
    "def get_option_name_and_settlement(coin):\n",
    "    \"\"\"\n",
    "    :param coin: crypto-currency coin name ('BTC', 'ETH')\n",
    "\n",
    "    :return: 2 lists:\n",
    "                        1.  list of traded options for the selected coin;\n",
    "                        2.  list of settlement period for the selected coin.\n",
    "    \"\"\"\n",
    "\n",
    "    # requests public API\n",
    "    r = requests.get(\"https://test.deribit.com/api/v2/public/get_instruments?currency=\" + coin + \"&kind=option\")\n",
    "    result = json.loads(r.text)\n",
    "\n",
    "    # get option name\n",
    "    name = pd.json_normalize(result['result'])['instrument_name']\n",
    "    name = list(name)\n",
    "\n",
    "    # get option settlement period\n",
    "    settlement_period = pd.json_normalize(result['result'])['settlement_period']\n",
    "    settlement_period = list(settlement_period)\n",
    "\n",
    "    return name, settlement_period\n",
    "\n",
    "\n",
    "def get_option_data(coin):\n",
    "    \"\"\"\n",
    "    :param coin: crypto-currency coin name ('BTC', 'ETH')\n",
    "    :return: pandas data frame with all option data for a given coin\n",
    "    \"\"\"\n",
    "\n",
    "    # get option name and settlement\n",
    "    coin_name = get_option_name_and_settlement(coin)[0]\n",
    "    settlement_period = get_option_name_and_settlement(coin)[1]\n",
    "\n",
    "    # initialize data frame\n",
    "    coin_df = []\n",
    "\n",
    "    # initialize progress bar\n",
    "    pbar = tqdm(total=len(coin_name))\n",
    "\n",
    "    # loop to download data for each Option Name\n",
    "    for i in range(len(coin_name)):\n",
    "        # download option data -- requests and convert json to pandas\n",
    "        r = requests.get('https://test.deribit.com/api/v2/public/get_order_book?instrument_name=' + coin_name[i])\n",
    "        result = json.loads(r.text)\n",
    "        df = pd.json_normalize(result['result'])\n",
    "\n",
    "        # add settlement period\n",
    "        df['settlement_period'] = settlement_period[i]\n",
    "\n",
    "        # append data to data frame\n",
    "        coin_df.append(df)\n",
    "\n",
    "        # update progress bar\n",
    "        pbar.update(1)\n",
    "\n",
    "    # finalize data frame\n",
    "    coin_df = pd.concat(coin_df)\n",
    "\n",
    "    # remove useless columns from coin_df\n",
    "    columns = ['state', 'estimated_delivery_price']\n",
    "    coin_df.drop(columns, inplace=True, axis=1)\n",
    "\n",
    "    # close the progress bar\n",
    "    pbar.close()\n",
    "\n",
    "    return coin_df\n",
    "\n",
    "# Commented out as I've already run it. Will take about 20-30 minutes to append. \n",
    "\n",
    "# # print data and time for log\n",
    "# print('Date and time: ' +  datetime.datetime.now().strftime(\"%d/%m/%Y %H:%M:%S\") + ' , format: dd/mm/yyyy hh:mm:ss')\n",
    "\n",
    "# # download data -- BTC and ETH Options\n",
    "# btc_data = get_option_data('BTC')\n",
    "# eth_data = get_option_data('ETH')\n",
    "\n",
    "# # export data to .csv -- append to existing\n",
    "# btc_data.to_csv(r'btc_option_data.csv', index=0, mode='a', header=False)\n",
    "# eth_data.to_csv(r'eth_option_data.csv', index=0, mode='a', header=False)\n",
    "\n",
    "# # transform each element of the data frames into strings for sqlite3\n",
    "# btc_data = btc_data.astype(str)\n",
    "# eth_data = eth_data.astype(str)\n",
    "\n",
    "# # connect to the SQLite3 database -- option_data.db\n",
    "# conn = sqlite3.connect('option-data.db')\n",
    "# print('Connection established with SQLite3 server: option-data.db')\n",
    "\n",
    "# # create/update BTC and ETH tables in the database\n",
    "# btc_data.to_sql(name='btc_option_data', con=conn, if_exists='append', chunksize=None, index=False)\n",
    "# print('BTC data appended')\n",
    "\n",
    "# eth_data.to_sql(name='eth_option_data', con=conn, if_exists='append', chunksize=None, index=False)\n",
    "# print('ETH data appended')\n"
   ]
  },
  {
   "cell_type": "code",
   "execution_count": 259,
   "metadata": {},
   "outputs": [
    {
     "name": "stdout",
     "output_type": "stream",
     "text": [
      "[(1288, 32), (1370, 32)]\n"
     ]
    },
    {
     "data": {
      "text/plain": [
       "array([['underlying_price', 'underlying_index'],\n",
       "       ['timestamp', 'open_interest'],\n",
       "       ['min_price', 'max_price'],\n",
       "       ['mark_price', 'mark_iv'],\n",
       "       ['last_price', 'interest_rate'],\n",
       "       ['instrument_name', 'index_price'],\n",
       "       ['change_id', 'bids'],\n",
       "       ['bid_iv', 'best_bid_price'],\n",
       "       ['best_bid_amount', 'best_ask_price'],\n",
       "       ['best_ask_amount', 'asks'],\n",
       "       ['ask_iv', 'stats.volume'],\n",
       "       ['stats.price_change', 'stats.low'],\n",
       "       ['stats.high', 'greeks.vega'],\n",
       "       ['greeks.theta', 'greeks.rho'],\n",
       "       ['greeks.gamma', 'greeks.delta'],\n",
       "       ['settlement_period', 'settlement_price']], dtype='<U18')"
      ]
     },
     "execution_count": 259,
     "metadata": {},
     "output_type": "execute_result"
    }
   ],
   "source": [
    "# Read data\n",
    "btc_data = pd.read_csv(r'btc_option_data.csv')\n",
    "eth_data = pd.read_csv(r'eth_option_data.csv')\n",
    "datasets = btc_data, eth_data\n",
    "print([i.shape for i in datasets])\n",
    "# See the columns better\n",
    "np.reshape(btc_data.columns.tolist(),(16,2))"
   ]
  },
  {
   "cell_type": "code",
   "execution_count": 260,
   "metadata": {},
   "outputs": [],
   "source": [
    "# Breakdown key values in instrument name and remove expired options\n",
    "ins_breakdown = ['coin', 'expiry_date', 'strike_price','option_type']\n",
    "clean_data = []\n",
    "\n",
    "# Assume date\n",
    "date_of_analysis = '21-Apr-2023'\n",
    "\n",
    "for i in datasets:\n",
    "    i[ins_breakdown] = i['instrument_name'].str.split('-', expand = True)\n",
    "    i['expiry_date'] = pd.to_datetime(i['expiry_date'], infer_datetime_format=True)\n",
    "    i['curr_date'] = pd.to_datetime(date_of_analysis, infer_datetime_format= True)\n",
    "\n",
    "    # Additional cleaning \n",
    "    i['maturity'] = (i['expiry_date'] - i['curr_date']) / np.timedelta64(1, 'Y')\n",
    "    \n",
    "    # Store in clean data list \n",
    "    clean_data.append(i.loc[i['expiry_date'] > i['curr_date']])"
   ]
  },
  {
   "cell_type": "code",
   "execution_count": 261,
   "metadata": {},
   "outputs": [
    {
     "data": {
      "text/plain": [
       "stats.price_change    106\n",
       "stats.low             106\n",
       "stats.high            106\n",
       "last_price              6\n",
       "underlying_price        0\n",
       "dtype: int64"
      ]
     },
     "execution_count": 261,
     "metadata": {},
     "output_type": "execute_result"
    }
   ],
   "source": [
    "clean_data[0].isnull().sum().sort_values(ascending = False)[0:5]"
   ]
  },
  {
   "cell_type": "code",
   "execution_count": 262,
   "metadata": {},
   "outputs": [
    {
     "data": {
      "text/plain": [
       "stats.price_change    288\n",
       "stats.low             288\n",
       "stats.high            288\n",
       "last_price             44\n",
       "greeks.gamma            0\n",
       "dtype: int64"
      ]
     },
     "execution_count": 262,
     "metadata": {},
     "output_type": "execute_result"
    }
   ],
   "source": [
    "clean_data[1].isnull().sum().sort_values(ascending = False)[0:5]"
   ]
  },
  {
   "cell_type": "code",
   "execution_count": 263,
   "metadata": {},
   "outputs": [
    {
     "data": {
      "text/html": [
       "<div>\n",
       "<style scoped>\n",
       "    .dataframe tbody tr th:only-of-type {\n",
       "        vertical-align: middle;\n",
       "    }\n",
       "\n",
       "    .dataframe tbody tr th {\n",
       "        vertical-align: top;\n",
       "    }\n",
       "\n",
       "    .dataframe thead th {\n",
       "        text-align: right;\n",
       "    }\n",
       "</style>\n",
       "<table border=\"1\" class=\"dataframe\">\n",
       "  <thead>\n",
       "    <tr style=\"text-align: right;\">\n",
       "      <th></th>\n",
       "      <th>underlying_price</th>\n",
       "      <th>underlying_index</th>\n",
       "      <th>timestamp</th>\n",
       "      <th>open_interest</th>\n",
       "      <th>min_price</th>\n",
       "      <th>max_price</th>\n",
       "      <th>mark_price</th>\n",
       "      <th>mark_iv</th>\n",
       "      <th>last_price</th>\n",
       "      <th>interest_rate</th>\n",
       "      <th>instrument_name</th>\n",
       "      <th>index_price</th>\n",
       "      <th>change_id</th>\n",
       "      <th>bids</th>\n",
       "      <th>bid_iv</th>\n",
       "      <th>best_bid_price</th>\n",
       "      <th>best_bid_amount</th>\n",
       "      <th>best_ask_price</th>\n",
       "      <th>best_ask_amount</th>\n",
       "      <th>asks</th>\n",
       "      <th>ask_iv</th>\n",
       "      <th>stats.volume</th>\n",
       "      <th>stats.price_change</th>\n",
       "      <th>stats.low</th>\n",
       "      <th>stats.high</th>\n",
       "      <th>greeks.vega</th>\n",
       "      <th>greeks.theta</th>\n",
       "      <th>greeks.rho</th>\n",
       "      <th>greeks.gamma</th>\n",
       "      <th>greeks.delta</th>\n",
       "      <th>settlement_period</th>\n",
       "      <th>settlement_price</th>\n",
       "      <th>coin</th>\n",
       "      <th>expiry_date</th>\n",
       "      <th>strike_price</th>\n",
       "      <th>option_type</th>\n",
       "      <th>curr_date</th>\n",
       "      <th>maturity</th>\n",
       "    </tr>\n",
       "  </thead>\n",
       "  <tbody>\n",
       "    <tr>\n",
       "      <th>1064</th>\n",
       "      <td>29411.08</td>\n",
       "      <td>index_price</td>\n",
       "      <td>1.681910e+12</td>\n",
       "      <td>547.8</td>\n",
       "      <td>0.5095</td>\n",
       "      <td>0.539</td>\n",
       "      <td>0.5243</td>\n",
       "      <td>137.6</td>\n",
       "      <td>0.5325</td>\n",
       "      <td>0</td>\n",
       "      <td>BTC-28APR23-14000-C</td>\n",
       "      <td>29411.08</td>\n",
       "      <td>16203631026</td>\n",
       "      <td>[[0.517, 3.1], [0.472, 1.0], [0.04, 2.0], [0.0...</td>\n",
       "      <td>0.0</td>\n",
       "      <td>0.517</td>\n",
       "      <td>3.1</td>\n",
       "      <td>0.0</td>\n",
       "      <td>0.0</td>\n",
       "      <td>[]</td>\n",
       "      <td>0.0</td>\n",
       "      <td>1.1</td>\n",
       "      <td>-1.5712</td>\n",
       "      <td>0.5325</td>\n",
       "      <td>0.541</td>\n",
       "      <td>0.02838</td>\n",
       "      <td>-0.22367</td>\n",
       "      <td>3.34750</td>\n",
       "      <td>0.0</td>\n",
       "      <td>0.99984</td>\n",
       "      <td>month</td>\n",
       "      <td>0.535339</td>\n",
       "      <td>BTC</td>\n",
       "      <td>2023-04-28</td>\n",
       "      <td>14000</td>\n",
       "      <td>C</td>\n",
       "      <td>2023-04-21</td>\n",
       "      <td>0.019165</td>\n",
       "    </tr>\n",
       "    <tr>\n",
       "      <th>1065</th>\n",
       "      <td>29411.08</td>\n",
       "      <td>index_price</td>\n",
       "      <td>1.681910e+12</td>\n",
       "      <td>701.7</td>\n",
       "      <td>0.0001</td>\n",
       "      <td>0.015</td>\n",
       "      <td>0.0000</td>\n",
       "      <td>137.6</td>\n",
       "      <td>0.0005</td>\n",
       "      <td>0</td>\n",
       "      <td>BTC-28APR23-14000-P</td>\n",
       "      <td>29411.08</td>\n",
       "      <td>16203622674</td>\n",
       "      <td>[]</td>\n",
       "      <td>0.0</td>\n",
       "      <td>0.000</td>\n",
       "      <td>0.0</td>\n",
       "      <td>0.0</td>\n",
       "      <td>0.0</td>\n",
       "      <td>[]</td>\n",
       "      <td>0.0</td>\n",
       "      <td>0.0</td>\n",
       "      <td>NaN</td>\n",
       "      <td>NaN</td>\n",
       "      <td>NaN</td>\n",
       "      <td>0.02838</td>\n",
       "      <td>-0.22367</td>\n",
       "      <td>-0.00121</td>\n",
       "      <td>0.0</td>\n",
       "      <td>-0.00016</td>\n",
       "      <td>month</td>\n",
       "      <td>0.000007</td>\n",
       "      <td>BTC</td>\n",
       "      <td>2023-04-28</td>\n",
       "      <td>14000</td>\n",
       "      <td>P</td>\n",
       "      <td>2023-04-21</td>\n",
       "      <td>0.019165</td>\n",
       "    </tr>\n",
       "  </tbody>\n",
       "</table>\n",
       "</div>"
      ],
      "text/plain": [
       "      underlying_price underlying_index     timestamp  open_interest  \\\n",
       "1064          29411.08      index_price  1.681910e+12          547.8   \n",
       "1065          29411.08      index_price  1.681910e+12          701.7   \n",
       "\n",
       "      min_price  max_price  mark_price  mark_iv  last_price  interest_rate  \\\n",
       "1064     0.5095      0.539      0.5243    137.6      0.5325              0   \n",
       "1065     0.0001      0.015      0.0000    137.6      0.0005              0   \n",
       "\n",
       "          instrument_name  index_price    change_id  \\\n",
       "1064  BTC-28APR23-14000-C     29411.08  16203631026   \n",
       "1065  BTC-28APR23-14000-P     29411.08  16203622674   \n",
       "\n",
       "                                                   bids  bid_iv  \\\n",
       "1064  [[0.517, 3.1], [0.472, 1.0], [0.04, 2.0], [0.0...     0.0   \n",
       "1065                                                 []     0.0   \n",
       "\n",
       "      best_bid_price  best_bid_amount  best_ask_price  best_ask_amount asks  \\\n",
       "1064           0.517              3.1             0.0              0.0   []   \n",
       "1065           0.000              0.0             0.0              0.0   []   \n",
       "\n",
       "      ask_iv  stats.volume  stats.price_change  stats.low  stats.high  \\\n",
       "1064     0.0           1.1             -1.5712     0.5325       0.541   \n",
       "1065     0.0           0.0                 NaN        NaN         NaN   \n",
       "\n",
       "      greeks.vega  greeks.theta  greeks.rho  greeks.gamma  greeks.delta  \\\n",
       "1064      0.02838      -0.22367     3.34750           0.0       0.99984   \n",
       "1065      0.02838      -0.22367    -0.00121           0.0      -0.00016   \n",
       "\n",
       "     settlement_period  settlement_price coin expiry_date strike_price  \\\n",
       "1064             month          0.535339  BTC  2023-04-28        14000   \n",
       "1065             month          0.000007  BTC  2023-04-28        14000   \n",
       "\n",
       "     option_type  curr_date  maturity  \n",
       "1064           C 2023-04-21  0.019165  \n",
       "1065           P 2023-04-21  0.019165  "
      ]
     },
     "execution_count": 263,
     "metadata": {},
     "output_type": "execute_result"
    }
   ],
   "source": [
    "pd.set_option('display.max_columns', None)\n",
    "clean_data[0].head(2)\n",
    "\n"
   ]
  },
  {
   "cell_type": "code",
   "execution_count": 264,
   "metadata": {},
   "outputs": [
    {
     "name": "stdout",
     "output_type": "stream",
     "text": [
      "BTC (224, 7)\n",
      "ETH (306, 7)\n"
     ]
    }
   ],
   "source": [
    "# Add black scholes clean option price\n",
    "def get_bsm_price(S, K, T, r, sigma, option_type):\n",
    "    d1 = (np.log(S/K) + (r + sigma**2/2)*T) / (sigma*np.sqrt(T))\n",
    "    d2 = d1 - sigma * np.sqrt(T)\n",
    "    if option_type == 'C':\n",
    "        return S * N(d1) - K * np.exp(-r*T)* N(d2)    \n",
    "    elif option_type == 'P':\n",
    "        return K*np.exp(-r*T)*N(-d2) - S*N(-d1)\n",
    "\n",
    "# Add new columns, refine bid/ask columns & remove unimportant column\n",
    "bsm_columns = ['underlying_price', 'strike_price','risk_free' ,'maturity', \\\n",
    "               'mark_iv', 'clean_price','mark_price']\n",
    "\n",
    "dfs = []\n",
    "\n",
    "j = 0\n",
    "for i in clean_data:\n",
    "    i['risk_free'] = 0.03\n",
    "\n",
    "    i['clean_price'] = i.apply(lambda x:get_bsm_price(x['underlying_price'],\n",
    "                                                      int(x['strike_price']),\n",
    "                                                      x['maturity'],\n",
    "                                                      x['risk_free'],\n",
    "                                                      x['mark_iv']/100,\n",
    "                                                      x['option_type']\n",
    "                                                      ), axis = 1 )\n",
    "\n",
    "\n",
    "    i = i[bsm_columns]\n",
    "    j+=1\n",
    "\n",
    "    dfs.append(i)\n",
    "\n",
    "    # get the name and shape\n",
    "    if j == 1:\n",
    "        print('BTC', i.shape)\n",
    "    if j == 2:\n",
    "        print('ETH', i.shape)\n",
    "    "
   ]
  },
  {
   "cell_type": "code",
   "execution_count": 265,
   "metadata": {},
   "outputs": [
    {
     "data": {
      "text/html": [
       "<div>\n",
       "<style scoped>\n",
       "    .dataframe tbody tr th:only-of-type {\n",
       "        vertical-align: middle;\n",
       "    }\n",
       "\n",
       "    .dataframe tbody tr th {\n",
       "        vertical-align: top;\n",
       "    }\n",
       "\n",
       "    .dataframe thead th {\n",
       "        text-align: right;\n",
       "    }\n",
       "</style>\n",
       "<table border=\"1\" class=\"dataframe\">\n",
       "  <thead>\n",
       "    <tr style=\"text-align: right;\">\n",
       "      <th></th>\n",
       "      <th>underlying_price</th>\n",
       "      <th>strike_price</th>\n",
       "      <th>risk_free</th>\n",
       "      <th>maturity</th>\n",
       "      <th>mark_iv</th>\n",
       "      <th>clean_price</th>\n",
       "      <th>mark_price</th>\n",
       "    </tr>\n",
       "  </thead>\n",
       "  <tbody>\n",
       "    <tr>\n",
       "      <th>1064</th>\n",
       "      <td>29411.08</td>\n",
       "      <td>14000</td>\n",
       "      <td>0.03</td>\n",
       "      <td>0.019165</td>\n",
       "      <td>137.6</td>\n",
       "      <td>15419.169802</td>\n",
       "      <td>0.5243</td>\n",
       "    </tr>\n",
       "    <tr>\n",
       "      <th>1065</th>\n",
       "      <td>29411.08</td>\n",
       "      <td>14000</td>\n",
       "      <td>0.03</td>\n",
       "      <td>0.019165</td>\n",
       "      <td>137.6</td>\n",
       "      <td>0.042669</td>\n",
       "      <td>0.0000</td>\n",
       "    </tr>\n",
       "    <tr>\n",
       "      <th>1066</th>\n",
       "      <td>29411.67</td>\n",
       "      <td>16000</td>\n",
       "      <td>0.03</td>\n",
       "      <td>0.019165</td>\n",
       "      <td>137.6</td>\n",
       "      <td>13421.631896</td>\n",
       "      <td>0.4564</td>\n",
       "    </tr>\n",
       "    <tr>\n",
       "      <th>1067</th>\n",
       "      <td>29411.62</td>\n",
       "      <td>16000</td>\n",
       "      <td>0.03</td>\n",
       "      <td>0.019165</td>\n",
       "      <td>137.6</td>\n",
       "      <td>0.765197</td>\n",
       "      <td>0.0001</td>\n",
       "    </tr>\n",
       "    <tr>\n",
       "      <th>1068</th>\n",
       "      <td>29411.62</td>\n",
       "      <td>17000</td>\n",
       "      <td>0.03</td>\n",
       "      <td>0.019165</td>\n",
       "      <td>137.6</td>\n",
       "      <td>12423.846652</td>\n",
       "      <td>0.4226</td>\n",
       "    </tr>\n",
       "  </tbody>\n",
       "</table>\n",
       "</div>"
      ],
      "text/plain": [
       "      underlying_price strike_price  risk_free  maturity  mark_iv  \\\n",
       "1064          29411.08        14000       0.03  0.019165    137.6   \n",
       "1065          29411.08        14000       0.03  0.019165    137.6   \n",
       "1066          29411.67        16000       0.03  0.019165    137.6   \n",
       "1067          29411.62        16000       0.03  0.019165    137.6   \n",
       "1068          29411.62        17000       0.03  0.019165    137.6   \n",
       "\n",
       "       clean_price  mark_price  \n",
       "1064  15419.169802      0.5243  \n",
       "1065      0.042669      0.0000  \n",
       "1066  13421.631896      0.4564  \n",
       "1067      0.765197      0.0001  \n",
       "1068  12423.846652      0.4226  "
      ]
     },
     "execution_count": 265,
     "metadata": {},
     "output_type": "execute_result"
    }
   ],
   "source": [
    "df1 = dfs[0]\n",
    "df2 = dfs[1]\n",
    "\n",
    "df1.head(5)"
   ]
  },
  {
   "cell_type": "markdown",
   "metadata": {},
   "source": [
    "## Divide data into Training, Validation and Test set"
   ]
  },
  {
   "cell_type": "code",
   "execution_count": 266,
   "metadata": {},
   "outputs": [],
   "source": [
    "# set target y to be index_price, and training variables to everything else\n",
    "y1, y2 = df1[['mark_price', 'clean_price']], df2[['mark_price', 'clean_price']]\n",
    "x1, x2 = df1.drop(['mark_price', 'clean_price'], axis = 1), df2.drop(['mark_price', 'clean_price'], axis = 1)\n",
    "\n",
    "def split(x,y):\n",
    "    # Divide data into training set and test set(note that random seed is set)\n",
    "    X_train,X_test,y_train,y_test=train_test_split(x,y,test_size=0.5,random_state=100)\n",
    "\n",
    "    # Divide training set into training and validation set\n",
    "    X_train,X_val,y_train,y_val=train_test_split(X_train,y_train,test_size=0.5,random_state=100)\n",
    "\n",
    "    return [X_train, X_val, X_test], [y_train, y_val, y_test]"
   ]
  },
  {
   "cell_type": "markdown",
   "metadata": {},
   "source": [
    "## Feature Scaling"
   ]
  },
  {
   "cell_type": "code",
   "execution_count": 267,
   "metadata": {},
   "outputs": [],
   "source": [
    "from sklearn.preprocessing import MaxAbsScaler\n",
    "\n",
    "def scaler(df):\n",
    "    scaler = MaxAbsScaler()\n",
    "    scaler.fit(df)\n",
    "    scaled = scaler.transform(df)\n",
    "    return pd.DataFrame(scaled, columns=df.columns)\n",
    "\n",
    "\n",
    "x_btc_list , y_btc_list = split(x1, y1)\n",
    "x_eth_list , y_eth_list = split(x2, y2)\n",
    "\n",
    "def scale_x(x_list):\n",
    "    scaled_x_list = []\n",
    "    for i in x_list:\n",
    "        scaled_x_list.append(scaler(i))\n",
    "    return scaled_x_list\n",
    "\n",
    "x_scaled_btc , x_scaled_eth = scale_x(x_btc_list), scale_x(x_eth_list)"
   ]
  },
  {
   "cell_type": "code",
   "execution_count": 268,
   "metadata": {},
   "outputs": [],
   "source": [
    "x_train_btc, x_val_btc, x_test_btc = x_scaled_btc[0], x_scaled_btc[1], x_scaled_btc[2]\n",
    "y_train_btc, y_val_btc, y_test_btc = y_btc_list[0], y_btc_list[1], y_btc_list[2]\n",
    "\n",
    "x_train_eth, x_val_eth, x_test_eth = x_scaled_eth[0], x_scaled_eth[1] , x_scaled_eth[2] \n",
    "y_train_eth, y_val_eth, y_test_eth = y_eth_list[0], y_eth_list[1], y_eth_list[2]"
   ]
  },
  {
   "attachments": {},
   "cell_type": "markdown",
   "metadata": {},
   "source": [
    "# Tuning Neural Networks: Hyperparameters"
   ]
  },
  {
   "cell_type": "code",
   "execution_count": 269,
   "metadata": {},
   "outputs": [],
   "source": [
    "# Source https://www.tensorflow.org/tutorials/keras/keras_tuner\n",
    "\n",
    "# Tune the model using RandomSearch\n",
    "import kerastuner.tuners as kt\n",
    "\n",
    "\n",
    "def model_builder(hp):\n",
    "  model = keras.Sequential()\n",
    "  model.add(keras.layers.Flatten(input_shape=(5, )))\n",
    "\n",
    "  # Tune the number of units in the first Dense layer, optimal value between 32-512\n",
    "  hp_units = hp.Int('units', min_value=32, max_value=512, step=32)\n",
    "  model.add(keras.layers.Dense(units=hp_units, activation='sigmoid'))\n",
    "  model.add(keras.layers.Dense(1))\n",
    "\n",
    "  # Tune the learning rate for the optimizer, optimal value from 0.01, 0.001, or 0.0001\n",
    "  hp_learning_rate = hp.Choice('learning_rate', values=[1e-2, 1e-3, 1e-4])\n",
    "\n",
    "  model.compile(optimizer=keras.optimizers.Adam(learning_rate=hp_learning_rate),\n",
    "                loss= 'mae',\n",
    "                metrics=[tf.keras.metrics.MeanAbsoluteError()])\n",
    "\n",
    "  return model"
   ]
  },
  {
   "cell_type": "code",
   "execution_count": 270,
   "metadata": {},
   "outputs": [
    {
     "name": "stdout",
     "output_type": "stream",
     "text": [
      "INFO:tensorflow:Reloading Tuner from 6.16 tuners\\btc_tuner\\tuner0.json\n",
      "INFO:tensorflow:Oracle triggered exit\n",
      "\n",
      "The optimal number of units in the first densely-connected\n",
      "layer is 352 and the optimal learning rate for the optimizer\n",
      "is 0.0001.\n",
      "\n"
     ]
    }
   ],
   "source": [
    "# BTC Tuner\n",
    "tuner = kt.Hyperband(\n",
    "  model_builder, \n",
    "  objective = 'loss',\n",
    "  executions_per_trial = 3,\n",
    "  directory = '6.16 tuners',\n",
    "  project_name='btc_tuner'\n",
    ")\n",
    "\n",
    "\n",
    "# Tune on train/val data\n",
    "tuner.search(x_train_btc, \n",
    "             y_train_btc['mark_price'], \n",
    "            epochs=10000, \n",
    "            validation_data=(x_val_btc, y_val_btc['mark_price']))\n",
    "\n",
    "# Get the optimal hyperparameters\n",
    "best_hps=tuner.get_best_hyperparameters(num_trials=1)[0]\n",
    "\n",
    "print(f\"\"\"\n",
    "The optimal number of units in the first densely-connected\n",
    "layer is {best_hps.get('units')} and the optimal learning rate for the optimizer\n",
    "is {best_hps.get('learning_rate')}.\n",
    "\"\"\")\n"
   ]
  },
  {
   "cell_type": "code",
   "execution_count": 271,
   "metadata": {},
   "outputs": [
    {
     "name": "stdout",
     "output_type": "stream",
     "text": [
      "INFO:tensorflow:Reloading Tuner from 6.16 tuners\\eth_tuner\\tuner0.json\n",
      "INFO:tensorflow:Oracle triggered exit\n",
      "\n",
      "The optimal number of units in the first densely-connected\n",
      "layer is 128 and the optimal learning rate for the optimizer\n",
      "is 0.001.\n",
      "\n"
     ]
    }
   ],
   "source": [
    "# ETH Tuner\n",
    "tuner2 = kt.Hyperband(\n",
    "  model_builder, \n",
    "  objective = 'loss',\n",
    "  executions_per_trial = 3,\n",
    "  directory = '6.16 tuners',\n",
    "  project_name='eth_tuner'\n",
    ")\n",
    "\n",
    "# Tune on train val data\n",
    "tuner2.search(x_train_eth, \n",
    "              y_train_eth['mark_price'], \n",
    "              epochs=10000, \n",
    "              validation_data=(x_val_eth, y_val_eth['mark_price'],))\n",
    "\n",
    "\n",
    "# Get the optimal hyperparameters\n",
    "best_hps2=tuner2.get_best_hyperparameters(num_trials=1)[0]\n",
    "\n",
    "print(f\"\"\"\n",
    "The optimal number of units in the first densely-connected\n",
    "layer is {best_hps2.get('units')} and the optimal learning rate for the optimizer\n",
    "is {best_hps2.get('learning_rate')}.\n",
    "\"\"\")"
   ]
  },
  {
   "attachments": {},
   "cell_type": "markdown",
   "metadata": {},
   "source": [
    "# Tuning Neural Networks: Epochs"
   ]
  },
  {
   "cell_type": "code",
   "execution_count": 281,
   "metadata": {},
   "outputs": [
    {
     "name": "stdout",
     "output_type": "stream",
     "text": [
      "Best epoch: 46764\n"
     ]
    }
   ],
   "source": [
    "model_btc = tuner.hypermodel.build(best_hps)\n",
    "history_btc = model_btc.fit(x_train_btc, y_train_btc['mark_price'], epochs=50000, validation_split=0.5, verbose=0)\n",
    "\n",
    "val_acc_per_epoch_btc = history_btc.history['mean_absolute_error']\n",
    "best_epoch_btc = val_acc_per_epoch_btc.index(min(val_acc_per_epoch_btc)) + 1\n",
    "print('Best epoch: %d' % (best_epoch_btc,))"
   ]
  },
  {
   "cell_type": "code",
   "execution_count": 282,
   "metadata": {},
   "outputs": [
    {
     "name": "stdout",
     "output_type": "stream",
     "text": [
      "Best epoch: 49131\n"
     ]
    }
   ],
   "source": [
    "model_eth = tuner2.hypermodel.build(best_hps2)\n",
    "history_eth = model_eth.fit(x_train_eth, y_train_eth['mark_price'], epochs=50000, validation_split=0.5, verbose = 0)\n",
    "\n",
    "val_acc_per_epoch_eth = history_eth.history['mean_absolute_error']\n",
    "best_epoch_eth = val_acc_per_epoch_eth.index(min(val_acc_per_epoch_eth)) + 1\n",
    "print('Best epoch: %d' % (best_epoch_eth,))"
   ]
  },
  {
   "cell_type": "markdown",
   "metadata": {},
   "source": [
    "## Calculate prediction error for both NN and BS analytical formula"
   ]
  },
  {
   "cell_type": "code",
   "execution_count": 283,
   "metadata": {},
   "outputs": [
    {
     "name": "stdout",
     "output_type": "stream",
     "text": [
      "4/4 [==============================] - 0s 667us/step - loss: 0.1798 - mean_absolute_error: 0.1798\n",
      "[test loss, test accuracy]: [0.1797875612974167, 0.1797875612974167]\n"
     ]
    }
   ],
   "source": [
    "# Reinstantiating models from above\n",
    "hypermodel_btc = tuner.hypermodel.build(best_hps)\n",
    "hypermodel_btc.fit(x_train_btc, y_train_btc['mark_price'], epochs=best_epoch_btc, validation_split=0.5, verbose =0)\n",
    "eval_result_btc = hypermodel_btc.evaluate(x_test_btc, y_test_btc['mark_price'])\n",
    "\n",
    "\n",
    "print(\"[test loss, test accuracy]:\", eval_result_btc)"
   ]
  },
  {
   "cell_type": "code",
   "execution_count": 284,
   "metadata": {},
   "outputs": [
    {
     "name": "stdout",
     "output_type": "stream",
     "text": [
      "5/5 [==============================] - 0s 751us/step - loss: 340.5731 - mean_absolute_error: 340.5731\n",
      "[test loss, test accuracy]: [340.57305908203125, 340.57305908203125]\n"
     ]
    }
   ],
   "source": [
    "# Reinstantiating models from above\n",
    "hypermodel_eth = tuner.hypermodel.build(best_hps2)\n",
    "hypermodel_eth.fit(x_train_eth, y_train_eth['mark_price'], epochs=best_epoch_eth, validation_split=0.5, verbose = 0)\n",
    "eval_result_eth = hypermodel_eth.evaluate(x_test_eth, y_test_eth)\n",
    "\n",
    "\n",
    "print(\"[test loss, test accuracy]:\", eval_result_eth)"
   ]
  },
  {
   "cell_type": "code",
   "execution_count": 285,
   "metadata": {},
   "outputs": [
    {
     "name": "stdout",
     "output_type": "stream",
     "text": [
      "4/4 [==============================] - 0s 334us/step\n"
     ]
    },
    {
     "data": {
      "text/plain": [
       "112"
      ]
     },
     "execution_count": 285,
     "metadata": {},
     "output_type": "execute_result"
    }
   ],
   "source": [
    "len(hypermodel_btc.predict(x_test_btc))"
   ]
  },
  {
   "cell_type": "code",
   "execution_count": 286,
   "metadata": {},
   "outputs": [
    {
     "name": "stdout",
     "output_type": "stream",
     "text": [
      "4/4 [==============================] - 0s 1ms/step\n",
      "5/5 [==============================] - 0s 501us/step\n"
     ]
    },
    {
     "data": {
      "text/html": [
       "<div>\n",
       "<style scoped>\n",
       "    .dataframe tbody tr th:only-of-type {\n",
       "        vertical-align: middle;\n",
       "    }\n",
       "\n",
       "    .dataframe tbody tr th {\n",
       "        vertical-align: top;\n",
       "    }\n",
       "\n",
       "    .dataframe thead th {\n",
       "        text-align: right;\n",
       "    }\n",
       "</style>\n",
       "<table border=\"1\" class=\"dataframe\">\n",
       "  <thead>\n",
       "    <tr style=\"text-align: right;\">\n",
       "      <th></th>\n",
       "      <th>Mean Error</th>\n",
       "      <th>Std Error</th>\n",
       "      <th>Mean Error against BS Price</th>\n",
       "      <th>Std error against BS Price</th>\n",
       "      <th>BS Mean Error</th>\n",
       "      <th>BS Std Error</th>\n",
       "      <th>Data</th>\n",
       "    </tr>\n",
       "  </thead>\n",
       "  <tbody>\n",
       "    <tr>\n",
       "      <th>0</th>\n",
       "      <td>0.017</td>\n",
       "      <td>0.253</td>\n",
       "      <td>-5866.347</td>\n",
       "      <td>6822.365</td>\n",
       "      <td>-5866.364</td>\n",
       "      <td>6822.130</td>\n",
       "      <td>BTC</td>\n",
       "    </tr>\n",
       "    <tr>\n",
       "      <th>0</th>\n",
       "      <td>-0.088</td>\n",
       "      <td>0.569</td>\n",
       "      <td>-680.770</td>\n",
       "      <td>1277.860</td>\n",
       "      <td>-680.681</td>\n",
       "      <td>1277.331</td>\n",
       "      <td>ETH</td>\n",
       "    </tr>\n",
       "  </tbody>\n",
       "</table>\n",
       "</div>"
      ],
      "text/plain": [
       "   Mean Error  Std Error  Mean Error against BS Price  \\\n",
       "0       0.017      0.253                    -5866.347   \n",
       "0      -0.088      0.569                     -680.770   \n",
       "\n",
       "   Std error against BS Price  BS Mean Error  BS Std Error Data  \n",
       "0                    6822.365      -5866.364      6822.130  BTC  \n",
       "0                    1277.860       -680.681      1277.331  ETH  "
      ]
     },
     "execution_count": 286,
     "metadata": {},
     "output_type": "execute_result"
    }
   ],
   "source": [
    "# Create storage lists\n",
    "def get_mae(model, x_scaled_test, y_test):\n",
    "    \n",
    "    y_pred = model.predict(x_scaled_test)\n",
    "\n",
    "    # Black Scholes Statistics\n",
    "    mean_error = np.average(y_pred.flatten() - y_test['mark_price']) # Mean error on test set\n",
    "    std_error = np.std(y_pred.flatten() - y_test['mark_price']) # Standard deviation of error on test set\n",
    "\n",
    "    # Neural Network Statistics\n",
    "    mean_error_vs_BS_price = np.average(y_pred.flatten() - y_test['clean_price']) # Mean error on test set vs. option price with noise\n",
    "    std_error_vs_BS_price = np.std(y_pred.flatten()- y_test['clean_price']) # Standard deviation of error on test set vs. option price with noise\n",
    "    BS_mean_error = np.average(y_test['mark_price'] - y_test['clean_price']) # Mean error on test set vs. BS analytical formula price\n",
    "    BS_std_error = np.std(y_test['mark_price'] - y_test['clean_price'])# Standard deviation of error on test set vs. BS analytical formula pric\n",
    "\n",
    "    out = [mean_error, std_error, mean_error_vs_BS_price , std_error_vs_BS_price, BS_mean_error, BS_std_error]\n",
    "\n",
    "    return pd.DataFrame(np.reshape([round(i, 3) for i in out],(1,6)), columns= ['Mean Error', 'Std Error', \\\n",
    "                                                              'Mean Error against BS Price', \\\n",
    "                                                              'Std error against BS Price',\\\n",
    "                                                              'BS Mean Error',\\\n",
    "                                                              'BS Std Error'])\n",
    "\n",
    "# Get metrics\n",
    "btc_metrics = get_mae(hypermodel_btc, x_test_btc, y_test_btc)\n",
    "eth_metrics = get_mae(hypermodel_eth, x_test_eth, y_test_eth)\n",
    "btc_metrics['Data'] = 'BTC'\n",
    "eth_metrics['Data'] = 'ETH'\n",
    "final_metrics = pd.concat([btc_metrics, eth_metrics])\n",
    "final_metrics"
   ]
  },
  {
   "attachments": {},
   "cell_type": "markdown",
   "metadata": {},
   "source": [
    "# Show predictions"
   ]
  },
  {
   "cell_type": "code",
   "execution_count": 287,
   "metadata": {},
   "outputs": [],
   "source": [
    "def plot_preds(model, x_scaled_test, y_test):\n",
    "    y_pred = model.predict(x_scaled_test)\n",
    "\n",
    "    plt.scatter(y_test['mark_price'], \n",
    "                y_pred,\n",
    "                color='red',\n",
    "                linewidth=0.3,\n",
    "                alpha=1, \n",
    "                s=2\n",
    "                )\n",
    "    plt.xlabel('Actual Price',fontsize=20)\n",
    "    plt.ylabel('Predicted Price',fontsize=20) \n",
    "    plt.show()"
   ]
  },
  {
   "cell_type": "code",
   "execution_count": 288,
   "metadata": {},
   "outputs": [
    {
     "name": "stdout",
     "output_type": "stream",
     "text": [
      "4/4 [==============================] - 0s 667us/step\n"
     ]
    },
    {
     "data": {
      "image/png": "[encoded data removed]",
      "text/plain": [
       "<Figure size 432x288 with 1 Axes>"
      ]
     },
     "metadata": {
      "needs_background": "light"
     },
     "output_type": "display_data"
    }
   ],
   "source": [
    "# Print predictions BTC\n",
    "plot_preds(hypermodel_btc, x_test_btc, y_test_btc)"
   ]
  },
  {
   "cell_type": "code",
   "execution_count": 289,
   "metadata": {},
   "outputs": [
    {
     "name": "stdout",
     "output_type": "stream",
     "text": [
      "5/5 [==============================] - 0s 501us/step\n"
     ]
    },
    {
     "data": {
      "image/png": "[encoded data removed]",
      "text/plain": [
       "<Figure size 432x288 with 1 Axes>"
      ]
     },
     "metadata": {
      "needs_background": "light"
     },
     "output_type": "display_data"
    }
   ],
   "source": [
    "# Print predictions ETH\n",
    "plot_preds(hypermodel_eth, x_test_eth, y_test_eth)"
   ]
  }
 ],
 "metadata": {
  "kernelspec": {
   "display_name": "Python 3",
   "language": "python",
   "name": "python3"
  },
  "language_info": {
   "codemirror_mode": {
    "name": "ipython",
    "version": 3
   },
   "file_extension": ".py",
   "mimetype": "text/x-python",
   "name": "python",
   "nbconvert_exporter": "python",
   "pygments_lexer": "ipython3",
   "version": "3.10.7"
  },
  "vscode": {
   "interpreter": {
    "hash": "b7da478affe01d998ba032614fda288b4c91404150a78dc872243ca143d7bb35"
   }
  }
 },
 "nbformat": 4,
 "nbformat_minor": 4
}
