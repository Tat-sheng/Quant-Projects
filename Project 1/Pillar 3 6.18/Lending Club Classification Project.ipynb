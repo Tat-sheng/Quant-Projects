{
 "cells": [
  {
   "cell_type": "code",
   "execution_count": 2,
   "metadata": {},
   "outputs": [],
   "source": [
    "# import packages\n",
    "import warnings\n",
    "warnings.filterwarnings('ignore')\n",
    "\n",
    "import pandas as pd\n",
    "import numpy as np\n",
    "\n",
    "import seaborn as sns\n",
    "import matplotlib.pyplot as plt\n",
    "\n",
    "from sklearn.linear_model import LogisticRegression\n",
    "\n",
    "from sklearn.metrics import accuracy_score, recall_score, precision_score, f1_score\n",
    "from sklearn.metrics import confusion_matrix, classification_report, roc_curve, roc_auc_score\n",
    "from sklearn.metrics import precision_recall_curve, auc, average_precision_score\n",
    "\n",
    "\n",
    "# NN packages\n",
    "import os\n",
    "import time\n",
    "\n",
    "import scipy as sci\n",
    "import scipy.io as sio\n",
    "\n",
    "from sklearn.model_selection import train_test_split\n",
    "from sklearn.linear_model import LinearRegression\n",
    "from sklearn.metrics import mean_squared_error\n",
    "from sklearn.preprocessing import StandardScaler\n",
    "\n",
    "\n",
    "import tensorflow as tf\n",
    "from tensorflow.keras.layers import Dense\n",
    "from tensorflow import keras\n",
    "\n",
    "\n",
    "from numpy.random import seed\n",
    "seed(100)\n",
    "\n",
    "from IPython.display import clear_output"
   ]
  },
  {
   "attachments": {},
   "cell_type": "markdown",
   "metadata": {},
   "source": [
    "# Exploratory Data Analysis"
   ]
  },
  {
   "cell_type": "code",
   "execution_count": 3,
   "metadata": {},
   "outputs": [],
   "source": [
    "raw = pd.read_csv(r'accepted_2007_to_2018Q4.csv')"
   ]
  },
  {
   "cell_type": "code",
   "execution_count": 4,
   "metadata": {},
   "outputs": [],
   "source": [
    "accepted_raw = raw.copy()"
   ]
  },
  {
   "cell_type": "code",
   "execution_count": 5,
   "metadata": {},
   "outputs": [
    {
     "data": {
      "text/plain": [
       "array([['id', 'member_id', 'loan_amnt', 'funded_amnt', 'funded_amnt_inv'],\n",
       "       ['term', 'int_rate', 'installment', 'grade', 'sub_grade'],\n",
       "       ['emp_title', 'emp_length', 'home_ownership', 'annual_inc',\n",
       "        'verification_status'],\n",
       "       ['issue_d', 'loan_status', 'pymnt_plan', 'url', 'desc'],\n",
       "       ['purpose', 'title', 'zip_code', 'addr_state', 'dti'],\n",
       "       ['delinq_2yrs', 'earliest_cr_line', 'fico_range_low',\n",
       "        'fico_range_high', 'inq_last_6mths'],\n",
       "       ['mths_since_last_delinq', 'mths_since_last_record', 'open_acc',\n",
       "        'pub_rec', 'revol_bal'],\n",
       "       ['revol_util', 'total_acc', 'initial_list_status', 'out_prncp',\n",
       "        'out_prncp_inv'],\n",
       "       ['total_pymnt', 'total_pymnt_inv', 'total_rec_prncp',\n",
       "        'total_rec_int', 'total_rec_late_fee'],\n",
       "       ['recoveries', 'collection_recovery_fee', 'last_pymnt_d',\n",
       "        'last_pymnt_amnt', 'next_pymnt_d']], dtype='<U23')"
      ]
     },
     "execution_count": 5,
     "metadata": {},
     "output_type": "execute_result"
    }
   ],
   "source": [
    "full_cols = accepted_raw.columns.tolist()\n",
    "np.reshape(full_cols[:50],(10,5))"
   ]
  },
  {
   "cell_type": "code",
   "execution_count": 6,
   "metadata": {},
   "outputs": [
    {
     "data": {
      "text/plain": [
       "array([['last_fico_range_high', 'last_fico_range_low',\n",
       "        'collections_12_mths_ex_med', 'mths_since_last_major_derog',\n",
       "        'policy_code'],\n",
       "       ['application_type', 'annual_inc_joint', 'dti_joint',\n",
       "        'verification_status_joint', 'acc_now_delinq'],\n",
       "       ['tot_coll_amt', 'tot_cur_bal', 'open_acc_6m', 'open_act_il',\n",
       "        'open_il_12m'],\n",
       "       ['open_il_24m', 'mths_since_rcnt_il', 'total_bal_il', 'il_util',\n",
       "        'open_rv_12m'],\n",
       "       ['open_rv_24m', 'max_bal_bc', 'all_util', 'total_rev_hi_lim',\n",
       "        'inq_fi'],\n",
       "       ['total_cu_tl', 'inq_last_12m', 'acc_open_past_24mths',\n",
       "        'avg_cur_bal', 'bc_open_to_buy'],\n",
       "       ['bc_util', 'chargeoff_within_12_mths', 'delinq_amnt',\n",
       "        'mo_sin_old_il_acct', 'mo_sin_old_rev_tl_op'],\n",
       "       ['mo_sin_rcnt_rev_tl_op', 'mo_sin_rcnt_tl', 'mort_acc',\n",
       "        'mths_since_recent_bc', 'mths_since_recent_bc_dlq'],\n",
       "       ['mths_since_recent_inq', 'mths_since_recent_revol_delinq',\n",
       "        'num_accts_ever_120_pd', 'num_actv_bc_tl', 'num_actv_rev_tl'],\n",
       "       ['num_bc_sats', 'num_bc_tl', 'num_il_tl', 'num_op_rev_tl',\n",
       "        'num_rev_accts']], dtype='<U30')"
      ]
     },
     "execution_count": 6,
     "metadata": {},
     "output_type": "execute_result"
    }
   ],
   "source": [
    "np.reshape(full_cols[51:101],(10,5))"
   ]
  },
  {
   "cell_type": "code",
   "execution_count": 7,
   "metadata": {},
   "outputs": [
    {
     "data": {
      "text/plain": [
       "array([['num_rev_tl_bal_gt_0', 'num_sats', 'num_tl_120dpd_2m',\n",
       "        'num_tl_30dpd', 'num_tl_90g_dpd_24m'],\n",
       "       ['num_tl_op_past_12m', 'pct_tl_nvr_dlq', 'percent_bc_gt_75',\n",
       "        'pub_rec_bankruptcies', 'tax_liens'],\n",
       "       ['tot_hi_cred_lim', 'total_bal_ex_mort', 'total_bc_limit',\n",
       "        'total_il_high_credit_limit', 'revol_bal_joint'],\n",
       "       ['sec_app_fico_range_low', 'sec_app_fico_range_high',\n",
       "        'sec_app_earliest_cr_line', 'sec_app_inq_last_6mths',\n",
       "        'sec_app_mort_acc'],\n",
       "       ['sec_app_open_acc', 'sec_app_revol_util', 'sec_app_open_act_il',\n",
       "        'sec_app_num_rev_accts', 'sec_app_chargeoff_within_12_mths'],\n",
       "       ['sec_app_collections_12_mths_ex_med',\n",
       "        'sec_app_mths_since_last_major_derog', 'hardship_flag',\n",
       "        'hardship_type', 'hardship_reason'],\n",
       "       ['hardship_status', 'deferral_term', 'hardship_amount',\n",
       "        'hardship_start_date', 'hardship_end_date'],\n",
       "       ['payment_plan_start_date', 'hardship_length', 'hardship_dpd',\n",
       "        'hardship_loan_status',\n",
       "        'orig_projected_additional_accrued_interest'],\n",
       "       ['hardship_payoff_balance_amount', 'hardship_last_payment_amount',\n",
       "        'disbursement_method', 'debt_settlement_flag',\n",
       "        'debt_settlement_flag_date'],\n",
       "       ['settlement_status', 'settlement_date', 'settlement_amount',\n",
       "        'settlement_percentage', 'settlement_term']], dtype='<U42')"
      ]
     },
     "execution_count": 7,
     "metadata": {},
     "output_type": "execute_result"
    }
   ],
   "source": [
    "np.reshape(full_cols[101:151],(10,5))"
   ]
  },
  {
   "cell_type": "code",
   "execution_count": 8,
   "metadata": {},
   "outputs": [
    {
     "data": {
      "text/html": [
       "<div>\n",
       "<style scoped>\n",
       "    .dataframe tbody tr th:only-of-type {\n",
       "        vertical-align: middle;\n",
       "    }\n",
       "\n",
       "    .dataframe tbody tr th {\n",
       "        vertical-align: top;\n",
       "    }\n",
       "\n",
       "    .dataframe thead th {\n",
       "        text-align: right;\n",
       "    }\n",
       "</style>\n",
       "<table border=\"1\" class=\"dataframe\">\n",
       "  <thead>\n",
       "    <tr style=\"text-align: right;\">\n",
       "      <th></th>\n",
       "      <th>member_id</th>\n",
       "      <th>loan_amnt</th>\n",
       "      <th>funded_amnt</th>\n",
       "      <th>funded_amnt_inv</th>\n",
       "      <th>int_rate</th>\n",
       "      <th>installment</th>\n",
       "      <th>annual_inc</th>\n",
       "      <th>dti</th>\n",
       "      <th>delinq_2yrs</th>\n",
       "      <th>fico_range_low</th>\n",
       "      <th>...</th>\n",
       "      <th>deferral_term</th>\n",
       "      <th>hardship_amount</th>\n",
       "      <th>hardship_length</th>\n",
       "      <th>hardship_dpd</th>\n",
       "      <th>orig_projected_additional_accrued_interest</th>\n",
       "      <th>hardship_payoff_balance_amount</th>\n",
       "      <th>hardship_last_payment_amount</th>\n",
       "      <th>settlement_amount</th>\n",
       "      <th>settlement_percentage</th>\n",
       "      <th>settlement_term</th>\n",
       "    </tr>\n",
       "  </thead>\n",
       "  <tbody>\n",
       "    <tr>\n",
       "      <th>count</th>\n",
       "      <td>0.0</td>\n",
       "      <td>2.260668e+06</td>\n",
       "      <td>2.260668e+06</td>\n",
       "      <td>2.260668e+06</td>\n",
       "      <td>2.260668e+06</td>\n",
       "      <td>2.260668e+06</td>\n",
       "      <td>2.260664e+06</td>\n",
       "      <td>2.258957e+06</td>\n",
       "      <td>2.260639e+06</td>\n",
       "      <td>2.260668e+06</td>\n",
       "      <td>...</td>\n",
       "      <td>10917.0</td>\n",
       "      <td>10917.000000</td>\n",
       "      <td>10917.0</td>\n",
       "      <td>10917.000000</td>\n",
       "      <td>8651.000000</td>\n",
       "      <td>10917.000000</td>\n",
       "      <td>10917.000000</td>\n",
       "      <td>34246.000000</td>\n",
       "      <td>34246.000000</td>\n",
       "      <td>34246.000000</td>\n",
       "    </tr>\n",
       "    <tr>\n",
       "      <th>mean</th>\n",
       "      <td>NaN</td>\n",
       "      <td>1.504693e+04</td>\n",
       "      <td>1.504166e+04</td>\n",
       "      <td>1.502344e+04</td>\n",
       "      <td>1.309283e+01</td>\n",
       "      <td>4.458068e+02</td>\n",
       "      <td>7.799243e+04</td>\n",
       "      <td>1.882420e+01</td>\n",
       "      <td>3.068792e-01</td>\n",
       "      <td>6.985882e+02</td>\n",
       "      <td>...</td>\n",
       "      <td>3.0</td>\n",
       "      <td>155.045981</td>\n",
       "      <td>3.0</td>\n",
       "      <td>13.743886</td>\n",
       "      <td>454.798089</td>\n",
       "      <td>11636.883942</td>\n",
       "      <td>193.994321</td>\n",
       "      <td>5010.664267</td>\n",
       "      <td>47.780365</td>\n",
       "      <td>13.191322</td>\n",
       "    </tr>\n",
       "    <tr>\n",
       "      <th>std</th>\n",
       "      <td>NaN</td>\n",
       "      <td>9.190245e+03</td>\n",
       "      <td>9.188413e+03</td>\n",
       "      <td>9.192332e+03</td>\n",
       "      <td>4.832138e+00</td>\n",
       "      <td>2.671735e+02</td>\n",
       "      <td>1.126962e+05</td>\n",
       "      <td>1.418333e+01</td>\n",
       "      <td>8.672303e-01</td>\n",
       "      <td>3.301038e+01</td>\n",
       "      <td>...</td>\n",
       "      <td>0.0</td>\n",
       "      <td>129.040594</td>\n",
       "      <td>0.0</td>\n",
       "      <td>9.671178</td>\n",
       "      <td>375.385500</td>\n",
       "      <td>7625.988281</td>\n",
       "      <td>198.629496</td>\n",
       "      <td>3693.122590</td>\n",
       "      <td>7.311822</td>\n",
       "      <td>8.159980</td>\n",
       "    </tr>\n",
       "    <tr>\n",
       "      <th>min</th>\n",
       "      <td>NaN</td>\n",
       "      <td>5.000000e+02</td>\n",
       "      <td>5.000000e+02</td>\n",
       "      <td>0.000000e+00</td>\n",
       "      <td>5.310000e+00</td>\n",
       "      <td>4.930000e+00</td>\n",
       "      <td>0.000000e+00</td>\n",
       "      <td>-1.000000e+00</td>\n",
       "      <td>0.000000e+00</td>\n",
       "      <td>6.100000e+02</td>\n",
       "      <td>...</td>\n",
       "      <td>3.0</td>\n",
       "      <td>0.640000</td>\n",
       "      <td>3.0</td>\n",
       "      <td>0.000000</td>\n",
       "      <td>1.920000</td>\n",
       "      <td>55.730000</td>\n",
       "      <td>0.010000</td>\n",
       "      <td>44.210000</td>\n",
       "      <td>0.200000</td>\n",
       "      <td>0.000000</td>\n",
       "    </tr>\n",
       "    <tr>\n",
       "      <th>25%</th>\n",
       "      <td>NaN</td>\n",
       "      <td>8.000000e+03</td>\n",
       "      <td>8.000000e+03</td>\n",
       "      <td>8.000000e+03</td>\n",
       "      <td>9.490000e+00</td>\n",
       "      <td>2.516500e+02</td>\n",
       "      <td>4.600000e+04</td>\n",
       "      <td>1.189000e+01</td>\n",
       "      <td>0.000000e+00</td>\n",
       "      <td>6.750000e+02</td>\n",
       "      <td>...</td>\n",
       "      <td>3.0</td>\n",
       "      <td>59.440000</td>\n",
       "      <td>3.0</td>\n",
       "      <td>5.000000</td>\n",
       "      <td>175.230000</td>\n",
       "      <td>5627.000000</td>\n",
       "      <td>44.440000</td>\n",
       "      <td>2208.000000</td>\n",
       "      <td>45.000000</td>\n",
       "      <td>6.000000</td>\n",
       "    </tr>\n",
       "    <tr>\n",
       "      <th>50%</th>\n",
       "      <td>NaN</td>\n",
       "      <td>1.290000e+04</td>\n",
       "      <td>1.287500e+04</td>\n",
       "      <td>1.280000e+04</td>\n",
       "      <td>1.262000e+01</td>\n",
       "      <td>3.779900e+02</td>\n",
       "      <td>6.500000e+04</td>\n",
       "      <td>1.784000e+01</td>\n",
       "      <td>0.000000e+00</td>\n",
       "      <td>6.900000e+02</td>\n",
       "      <td>...</td>\n",
       "      <td>3.0</td>\n",
       "      <td>119.140000</td>\n",
       "      <td>3.0</td>\n",
       "      <td>15.000000</td>\n",
       "      <td>352.770000</td>\n",
       "      <td>10028.390000</td>\n",
       "      <td>133.160000</td>\n",
       "      <td>4146.110000</td>\n",
       "      <td>45.000000</td>\n",
       "      <td>14.000000</td>\n",
       "    </tr>\n",
       "    <tr>\n",
       "      <th>75%</th>\n",
       "      <td>NaN</td>\n",
       "      <td>2.000000e+04</td>\n",
       "      <td>2.000000e+04</td>\n",
       "      <td>2.000000e+04</td>\n",
       "      <td>1.599000e+01</td>\n",
       "      <td>5.933200e+02</td>\n",
       "      <td>9.300000e+04</td>\n",
       "      <td>2.449000e+01</td>\n",
       "      <td>0.000000e+00</td>\n",
       "      <td>7.150000e+02</td>\n",
       "      <td>...</td>\n",
       "      <td>3.0</td>\n",
       "      <td>213.260000</td>\n",
       "      <td>3.0</td>\n",
       "      <td>22.000000</td>\n",
       "      <td>620.175000</td>\n",
       "      <td>16151.890000</td>\n",
       "      <td>284.190000</td>\n",
       "      <td>6850.172500</td>\n",
       "      <td>50.000000</td>\n",
       "      <td>18.000000</td>\n",
       "    </tr>\n",
       "    <tr>\n",
       "      <th>max</th>\n",
       "      <td>NaN</td>\n",
       "      <td>4.000000e+04</td>\n",
       "      <td>4.000000e+04</td>\n",
       "      <td>4.000000e+04</td>\n",
       "      <td>3.099000e+01</td>\n",
       "      <td>1.719830e+03</td>\n",
       "      <td>1.100000e+08</td>\n",
       "      <td>9.990000e+02</td>\n",
       "      <td>5.800000e+01</td>\n",
       "      <td>8.450000e+02</td>\n",
       "      <td>...</td>\n",
       "      <td>3.0</td>\n",
       "      <td>943.940000</td>\n",
       "      <td>3.0</td>\n",
       "      <td>37.000000</td>\n",
       "      <td>2680.890000</td>\n",
       "      <td>40306.410000</td>\n",
       "      <td>1407.860000</td>\n",
       "      <td>33601.000000</td>\n",
       "      <td>521.350000</td>\n",
       "      <td>181.000000</td>\n",
       "    </tr>\n",
       "  </tbody>\n",
       "</table>\n",
       "<p>8 rows × 113 columns</p>\n",
       "</div>"
      ],
      "text/plain": [
       "       member_id     loan_amnt   funded_amnt  funded_amnt_inv      int_rate  \\\n",
       "count        0.0  2.260668e+06  2.260668e+06     2.260668e+06  2.260668e+06   \n",
       "mean         NaN  1.504693e+04  1.504166e+04     1.502344e+04  1.309283e+01   \n",
       "std          NaN  9.190245e+03  9.188413e+03     9.192332e+03  4.832138e+00   \n",
       "min          NaN  5.000000e+02  5.000000e+02     0.000000e+00  5.310000e+00   \n",
       "25%          NaN  8.000000e+03  8.000000e+03     8.000000e+03  9.490000e+00   \n",
       "50%          NaN  1.290000e+04  1.287500e+04     1.280000e+04  1.262000e+01   \n",
       "75%          NaN  2.000000e+04  2.000000e+04     2.000000e+04  1.599000e+01   \n",
       "max          NaN  4.000000e+04  4.000000e+04     4.000000e+04  3.099000e+01   \n",
       "\n",
       "        installment    annual_inc           dti   delinq_2yrs  fico_range_low  \\\n",
       "count  2.260668e+06  2.260664e+06  2.258957e+06  2.260639e+06    2.260668e+06   \n",
       "mean   4.458068e+02  7.799243e+04  1.882420e+01  3.068792e-01    6.985882e+02   \n",
       "std    2.671735e+02  1.126962e+05  1.418333e+01  8.672303e-01    3.301038e+01   \n",
       "min    4.930000e+00  0.000000e+00 -1.000000e+00  0.000000e+00    6.100000e+02   \n",
       "25%    2.516500e+02  4.600000e+04  1.189000e+01  0.000000e+00    6.750000e+02   \n",
       "50%    3.779900e+02  6.500000e+04  1.784000e+01  0.000000e+00    6.900000e+02   \n",
       "75%    5.933200e+02  9.300000e+04  2.449000e+01  0.000000e+00    7.150000e+02   \n",
       "max    1.719830e+03  1.100000e+08  9.990000e+02  5.800000e+01    8.450000e+02   \n",
       "\n",
       "       ...  deferral_term  hardship_amount  hardship_length  hardship_dpd  \\\n",
       "count  ...        10917.0     10917.000000          10917.0  10917.000000   \n",
       "mean   ...            3.0       155.045981              3.0     13.743886   \n",
       "std    ...            0.0       129.040594              0.0      9.671178   \n",
       "min    ...            3.0         0.640000              3.0      0.000000   \n",
       "25%    ...            3.0        59.440000              3.0      5.000000   \n",
       "50%    ...            3.0       119.140000              3.0     15.000000   \n",
       "75%    ...            3.0       213.260000              3.0     22.000000   \n",
       "max    ...            3.0       943.940000              3.0     37.000000   \n",
       "\n",
       "       orig_projected_additional_accrued_interest  \\\n",
       "count                                 8651.000000   \n",
       "mean                                   454.798089   \n",
       "std                                    375.385500   \n",
       "min                                      1.920000   \n",
       "25%                                    175.230000   \n",
       "50%                                    352.770000   \n",
       "75%                                    620.175000   \n",
       "max                                   2680.890000   \n",
       "\n",
       "       hardship_payoff_balance_amount  hardship_last_payment_amount  \\\n",
       "count                    10917.000000                  10917.000000   \n",
       "mean                     11636.883942                    193.994321   \n",
       "std                       7625.988281                    198.629496   \n",
       "min                         55.730000                      0.010000   \n",
       "25%                       5627.000000                     44.440000   \n",
       "50%                      10028.390000                    133.160000   \n",
       "75%                      16151.890000                    284.190000   \n",
       "max                      40306.410000                   1407.860000   \n",
       "\n",
       "       settlement_amount  settlement_percentage  settlement_term  \n",
       "count       34246.000000           34246.000000     34246.000000  \n",
       "mean         5010.664267              47.780365        13.191322  \n",
       "std          3693.122590               7.311822         8.159980  \n",
       "min            44.210000               0.200000         0.000000  \n",
       "25%          2208.000000              45.000000         6.000000  \n",
       "50%          4146.110000              45.000000        14.000000  \n",
       "75%          6850.172500              50.000000        18.000000  \n",
       "max         33601.000000             521.350000       181.000000  \n",
       "\n",
       "[8 rows x 113 columns]"
      ]
     },
     "execution_count": 8,
     "metadata": {},
     "output_type": "execute_result"
    }
   ],
   "source": [
    "accepted_raw.describe()"
   ]
  },
  {
   "attachments": {},
   "cell_type": "markdown",
   "metadata": {},
   "source": [
    "# Pre-processing the data"
   ]
  },
  {
   "cell_type": "code",
   "execution_count": 9,
   "metadata": {},
   "outputs": [],
   "source": [
    "# Feature engineering and grouping\n",
    "\n",
    "def feature_engineering(df):\n",
    "\n",
    "    # FICO score range: A range of scores used to assess the borrower's creditworthiness.\n",
    "    df['fico_avg'] = (df['fico_range_low'] + df['fico_range_high']) / 2\n",
    "\n",
    "    # Annual income to loan installment ratio\n",
    "    df['payment_inc_ratio'] = df['annual_inc'] / (df['installment'] * 12)\n",
    "\n",
    "    # Encoding features\n",
    "    df['delinq_2yrs'] = (df['delinq_2yrs'] == 0).astype(int)\n",
    "    df['inq_last_6mths'] = (df['inq_last_6mths'] == 0).astype(int)   \n",
    "    df['pub_rec'] = (df['pub_rec'] >= 2).astype(int)\n",
    "\n",
    "    # Engineering bins for groups\n",
    "    df['open_acc_grp'] = pd.cut(df['open_acc'], bins=[-1, 10, 20, 30, 40, 50, float('inf')], labels=['0-10', '10-20', '20-30', '30-40', '40-50', '>50']).astype(str)\n",
    "    df['annual_inc_grp'] = pd.cut(df['annual_inc'], bins=[-1, 50000, 100000, 150000, 200000, 250000, float('inf')], labels=['0-50k', '50k-100k', '100k-150k', '150k-200k', '200k-250k', '>250k']).astype(str)\n",
    "    df['dti_grp'] = pd.cut(df['dti'], bins=[-1, 10, 20, 30, 40, 50, float('inf')], labels=['0-10', '10-20', '20-30', '30-40', '40-50', '>50']).astype(str)\n",
    "    return df\n",
    "\n",
    "\n",
    "accepted_raw = feature_engineering(accepted_raw)"
   ]
  },
  {
   "cell_type": "code",
   "execution_count": 10,
   "metadata": {},
   "outputs": [],
   "source": [
    "# Drop rows that do not meet criteria \n",
    "crit = ['Does not meet the credit policy. Status:Fully Paid', 'Does not meet the credit policy. Status:Charged Off']\n",
    "accepted_raw = accepted_raw[~accepted_raw['loan_status'].isin(crit)]"
   ]
  },
  {
   "cell_type": "code",
   "execution_count": 11,
   "metadata": {},
   "outputs": [],
   "source": [
    "# Drop all columns with more than 75% NaN values\n",
    "threshold = len(accepted_raw) * 0.75\n",
    "accepted_raw = accepted_raw.dropna(thresh = threshold, axis = 1)"
   ]
  },
  {
   "cell_type": "code",
   "execution_count": 12,
   "metadata": {},
   "outputs": [
    {
     "name": "stdout",
     "output_type": "stream",
     "text": [
      "27\n"
     ]
    },
    {
     "data": {
      "text/html": [
       "<div>\n",
       "<style scoped>\n",
       "    .dataframe tbody tr th:only-of-type {\n",
       "        vertical-align: middle;\n",
       "    }\n",
       "\n",
       "    .dataframe tbody tr th {\n",
       "        vertical-align: top;\n",
       "    }\n",
       "\n",
       "    .dataframe thead th {\n",
       "        text-align: right;\n",
       "    }\n",
       "</style>\n",
       "<table border=\"1\" class=\"dataframe\">\n",
       "  <thead>\n",
       "    <tr style=\"text-align: right;\">\n",
       "      <th></th>\n",
       "      <th>id</th>\n",
       "      <th>term</th>\n",
       "      <th>grade</th>\n",
       "      <th>sub_grade</th>\n",
       "      <th>emp_title</th>\n",
       "      <th>emp_length</th>\n",
       "      <th>home_ownership</th>\n",
       "      <th>verification_status</th>\n",
       "      <th>issue_d</th>\n",
       "      <th>loan_status</th>\n",
       "      <th>...</th>\n",
       "      <th>initial_list_status</th>\n",
       "      <th>last_pymnt_d</th>\n",
       "      <th>last_credit_pull_d</th>\n",
       "      <th>application_type</th>\n",
       "      <th>hardship_flag</th>\n",
       "      <th>disbursement_method</th>\n",
       "      <th>debt_settlement_flag</th>\n",
       "      <th>open_acc_grp</th>\n",
       "      <th>annual_inc_grp</th>\n",
       "      <th>dti_grp</th>\n",
       "    </tr>\n",
       "  </thead>\n",
       "  <tbody>\n",
       "    <tr>\n",
       "      <th>0</th>\n",
       "      <td>68407277</td>\n",
       "      <td>36 months</td>\n",
       "      <td>C</td>\n",
       "      <td>C4</td>\n",
       "      <td>leadman</td>\n",
       "      <td>10+ years</td>\n",
       "      <td>MORTGAGE</td>\n",
       "      <td>Not Verified</td>\n",
       "      <td>Dec-2015</td>\n",
       "      <td>Fully Paid</td>\n",
       "      <td>...</td>\n",
       "      <td>w</td>\n",
       "      <td>Jan-2019</td>\n",
       "      <td>Mar-2019</td>\n",
       "      <td>Individual</td>\n",
       "      <td>N</td>\n",
       "      <td>Cash</td>\n",
       "      <td>N</td>\n",
       "      <td>0-10</td>\n",
       "      <td>50k-100k</td>\n",
       "      <td>0-10</td>\n",
       "    </tr>\n",
       "    <tr>\n",
       "      <th>1</th>\n",
       "      <td>68355089</td>\n",
       "      <td>36 months</td>\n",
       "      <td>C</td>\n",
       "      <td>C1</td>\n",
       "      <td>Engineer</td>\n",
       "      <td>10+ years</td>\n",
       "      <td>MORTGAGE</td>\n",
       "      <td>Not Verified</td>\n",
       "      <td>Dec-2015</td>\n",
       "      <td>Fully Paid</td>\n",
       "      <td>...</td>\n",
       "      <td>w</td>\n",
       "      <td>Jun-2016</td>\n",
       "      <td>Mar-2019</td>\n",
       "      <td>Individual</td>\n",
       "      <td>N</td>\n",
       "      <td>Cash</td>\n",
       "      <td>N</td>\n",
       "      <td>20-30</td>\n",
       "      <td>50k-100k</td>\n",
       "      <td>10-20</td>\n",
       "    </tr>\n",
       "  </tbody>\n",
       "</table>\n",
       "<p>2 rows × 27 columns</p>\n",
       "</div>"
      ],
      "text/plain": [
       "         id        term grade sub_grade emp_title emp_length home_ownership  \\\n",
       "0  68407277   36 months     C        C4   leadman  10+ years       MORTGAGE   \n",
       "1  68355089   36 months     C        C1  Engineer  10+ years       MORTGAGE   \n",
       "\n",
       "  verification_status   issue_d loan_status  ... initial_list_status  \\\n",
       "0        Not Verified  Dec-2015  Fully Paid  ...                   w   \n",
       "1        Not Verified  Dec-2015  Fully Paid  ...                   w   \n",
       "\n",
       "  last_pymnt_d last_credit_pull_d application_type hardship_flag  \\\n",
       "0     Jan-2019           Mar-2019       Individual             N   \n",
       "1     Jun-2016           Mar-2019       Individual             N   \n",
       "\n",
       "  disbursement_method debt_settlement_flag open_acc_grp annual_inc_grp dti_grp  \n",
       "0                Cash                    N         0-10       50k-100k    0-10  \n",
       "1                Cash                    N        20-30       50k-100k   10-20  \n",
       "\n",
       "[2 rows x 27 columns]"
      ]
     },
     "execution_count": 12,
     "metadata": {},
     "output_type": "execute_result"
    }
   ],
   "source": [
    "# Keep all the int/float columns\n",
    "non_numeric_cols = accepted_raw.select_dtypes(exclude=[int, float]).columns.tolist()\n",
    "print(len(non_numeric_cols))\n",
    "\n",
    "# View a snippet of the columns \n",
    "accepted_raw[non_numeric_cols].head(2)"
   ]
  },
  {
   "cell_type": "code",
   "execution_count": 13,
   "metadata": {},
   "outputs": [],
   "source": [
    "# Define function to extract integer\n",
    "def extract_integer(value):\n",
    "    \"\"\"\n",
    "    Given a value, convert it to a string, check if it contains digits,\n",
    "    and extract the integer if it does. Replace any errors with 0.\n",
    "    \"\"\"\n",
    "    try:\n",
    "        value_str = str(value)\n",
    "        if any(char.isdigit() for char in value_str):\n",
    "            return float(''.join(filter(str.isdigit, value_str)))\n",
    "        else:\n",
    "            return value\n",
    "    except:\n",
    "        return 0\n",
    "\n",
    "for i in non_numeric_cols:\n",
    "    accepted_raw[i] = accepted_raw[i].apply(lambda x: extract_integer(x))"
   ]
  },
  {
   "cell_type": "code",
   "execution_count": 14,
   "metadata": {},
   "outputs": [
    {
     "data": {
      "text/html": [
       "<div>\n",
       "<style scoped>\n",
       "    .dataframe tbody tr th:only-of-type {\n",
       "        vertical-align: middle;\n",
       "    }\n",
       "\n",
       "    .dataframe tbody tr th {\n",
       "        vertical-align: top;\n",
       "    }\n",
       "\n",
       "    .dataframe thead th {\n",
       "        text-align: right;\n",
       "    }\n",
       "</style>\n",
       "<table border=\"1\" class=\"dataframe\">\n",
       "  <thead>\n",
       "    <tr style=\"text-align: right;\">\n",
       "      <th></th>\n",
       "      <th>id</th>\n",
       "      <th>term</th>\n",
       "      <th>grade</th>\n",
       "      <th>sub_grade</th>\n",
       "      <th>emp_title</th>\n",
       "      <th>emp_length</th>\n",
       "      <th>home_ownership</th>\n",
       "      <th>verification_status</th>\n",
       "      <th>issue_d</th>\n",
       "      <th>loan_status</th>\n",
       "      <th>...</th>\n",
       "      <th>initial_list_status</th>\n",
       "      <th>last_pymnt_d</th>\n",
       "      <th>last_credit_pull_d</th>\n",
       "      <th>application_type</th>\n",
       "      <th>hardship_flag</th>\n",
       "      <th>disbursement_method</th>\n",
       "      <th>debt_settlement_flag</th>\n",
       "      <th>open_acc_grp</th>\n",
       "      <th>annual_inc_grp</th>\n",
       "      <th>dti_grp</th>\n",
       "    </tr>\n",
       "  </thead>\n",
       "  <tbody>\n",
       "    <tr>\n",
       "      <th>0</th>\n",
       "      <td>68407277.0</td>\n",
       "      <td>36.0</td>\n",
       "      <td>C</td>\n",
       "      <td>4.0</td>\n",
       "      <td>leadman</td>\n",
       "      <td>10.0</td>\n",
       "      <td>MORTGAGE</td>\n",
       "      <td>Not Verified</td>\n",
       "      <td>2015.0</td>\n",
       "      <td>Fully Paid</td>\n",
       "      <td>...</td>\n",
       "      <td>w</td>\n",
       "      <td>2019.0</td>\n",
       "      <td>2019.0</td>\n",
       "      <td>Individual</td>\n",
       "      <td>N</td>\n",
       "      <td>Cash</td>\n",
       "      <td>N</td>\n",
       "      <td>10.0</td>\n",
       "      <td>50100.0</td>\n",
       "      <td>10.0</td>\n",
       "    </tr>\n",
       "    <tr>\n",
       "      <th>1</th>\n",
       "      <td>68355089.0</td>\n",
       "      <td>36.0</td>\n",
       "      <td>C</td>\n",
       "      <td>1.0</td>\n",
       "      <td>Engineer</td>\n",
       "      <td>10.0</td>\n",
       "      <td>MORTGAGE</td>\n",
       "      <td>Not Verified</td>\n",
       "      <td>2015.0</td>\n",
       "      <td>Fully Paid</td>\n",
       "      <td>...</td>\n",
       "      <td>w</td>\n",
       "      <td>2016.0</td>\n",
       "      <td>2019.0</td>\n",
       "      <td>Individual</td>\n",
       "      <td>N</td>\n",
       "      <td>Cash</td>\n",
       "      <td>N</td>\n",
       "      <td>2030.0</td>\n",
       "      <td>50100.0</td>\n",
       "      <td>1020.0</td>\n",
       "    </tr>\n",
       "  </tbody>\n",
       "</table>\n",
       "<p>2 rows × 27 columns</p>\n",
       "</div>"
      ],
      "text/plain": [
       "           id  term grade  sub_grade emp_title  emp_length home_ownership  \\\n",
       "0  68407277.0  36.0     C        4.0   leadman        10.0       MORTGAGE   \n",
       "1  68355089.0  36.0     C        1.0  Engineer        10.0       MORTGAGE   \n",
       "\n",
       "  verification_status  issue_d loan_status  ... initial_list_status  \\\n",
       "0        Not Verified   2015.0  Fully Paid  ...                   w   \n",
       "1        Not Verified   2015.0  Fully Paid  ...                   w   \n",
       "\n",
       "   last_pymnt_d last_credit_pull_d application_type  hardship_flag  \\\n",
       "0        2019.0             2019.0       Individual              N   \n",
       "1        2016.0             2019.0       Individual              N   \n",
       "\n",
       "  disbursement_method  debt_settlement_flag open_acc_grp  annual_inc_grp  \\\n",
       "0                Cash                     N         10.0         50100.0   \n",
       "1                Cash                     N       2030.0         50100.0   \n",
       "\n",
       "   dti_grp  \n",
       "0     10.0  \n",
       "1   1020.0  \n",
       "\n",
       "[2 rows x 27 columns]"
      ]
     },
     "execution_count": 14,
     "metadata": {},
     "output_type": "execute_result"
    }
   ],
   "source": [
    "accepted_raw[non_numeric_cols].head(2)"
   ]
  },
  {
   "cell_type": "code",
   "execution_count": 15,
   "metadata": {},
   "outputs": [
    {
     "data": {
      "text/plain": [
       "id                      2257952\n",
       "emp_title                498842\n",
       "title                     57171\n",
       "addr_state                   51\n",
       "purpose                      14\n",
       "loan_status                   7\n",
       "grade                         7\n",
       "open_acc_grp                  7\n",
       "annual_inc_grp                7\n",
       "dti_grp                       7\n",
       "home_ownership                6\n",
       "verification_status           3\n",
       "pymnt_plan                    2\n",
       "initial_list_status           2\n",
       "application_type              2\n",
       "hardship_flag                 2\n",
       "disbursement_method           2\n",
       "debt_settlement_flag          2\n",
       "dtype: int64"
      ]
     },
     "execution_count": 15,
     "metadata": {},
     "output_type": "execute_result"
    }
   ],
   "source": [
    "# Keep all the int/float columns\n",
    "new_non_numeric_cols = accepted_raw.select_dtypes(exclude=[int, float]).columns.tolist()\n",
    "accepted_raw[new_non_numeric_cols].nunique().sort_values(ascending = False)"
   ]
  },
  {
   "cell_type": "code",
   "execution_count": 16,
   "metadata": {},
   "outputs": [],
   "source": [
    "# Drop excessive unique items\n",
    "for i in ['id', 'emp_title', 'title']:\n",
    "    accepted_raw.drop(i, axis = 1, inplace = True)"
   ]
  },
  {
   "cell_type": "code",
   "execution_count": 17,
   "metadata": {},
   "outputs": [
    {
     "data": {
      "text/plain": [
       "Fully Paid         1076751\n",
       "Current             878317\n",
       "Charged Off         268559\n",
       "31120.0              21467\n",
       "In Grace Period       8436\n",
       "1630.0                4349\n",
       "Default                 40\n",
       "Name: loan_status, dtype: int64"
      ]
     },
     "execution_count": 17,
     "metadata": {},
     "output_type": "execute_result"
    }
   ],
   "source": [
    "accepted_raw['loan_status'].value_counts()"
   ]
  },
  {
   "cell_type": "code",
   "execution_count": 18,
   "metadata": {},
   "outputs": [
    {
     "data": {
      "text/plain": [
       "1    2232063\n",
       "0      25889\n",
       "Name: loan_status, dtype: int64"
      ]
     },
     "execution_count": 18,
     "metadata": {},
     "output_type": "execute_result"
    }
   ],
   "source": [
    "# Dummy encoding variables\n",
    "\n",
    "def update_loan_status(x):\n",
    "    if x == 'Fully Paid' or x == 'Current' or x == 'Charged Off' or x == 'In Grace Period':\n",
    "        return 1\n",
    "    else:\n",
    "        return 0\n",
    "\n",
    "accepted_raw['loan_status']= accepted_raw['loan_status'].apply(lambda x: update_loan_status(x))\n",
    "accepted_raw['loan_status'].value_counts()"
   ]
  },
  {
   "cell_type": "code",
   "execution_count": 19,
   "metadata": {},
   "outputs": [
    {
     "data": {
      "text/plain": [
       "0.012"
      ]
     },
     "execution_count": 19,
     "metadata": {},
     "output_type": "execute_result"
    }
   ],
   "source": [
    "ratio_accept_to_reject = accepted_raw['loan_status'].value_counts()[0]/accepted_raw['loan_status'].value_counts()[1]\n",
    "\n",
    "ratio_accept_to_reject.round(3)"
   ]
  },
  {
   "cell_type": "code",
   "execution_count": 20,
   "metadata": {},
   "outputs": [],
   "source": [
    "accepted_raw = accepted_raw.replace(np.nan, 0)"
   ]
  },
  {
   "cell_type": "code",
   "execution_count": 21,
   "metadata": {},
   "outputs": [
    {
     "data": {
      "text/plain": [
       "loan_amnt                0\n",
       "num_bc_sats              0\n",
       "num_actv_rev_tl          0\n",
       "num_actv_bc_tl           0\n",
       "num_accts_ever_120_pd    0\n",
       "                        ..\n",
       "revol_bal                0\n",
       "pub_rec                  0\n",
       "open_acc                 0\n",
       "total_pymnt_inv          0\n",
       "dti_grp                  0\n",
       "Length: 95, dtype: int64"
      ]
     },
     "execution_count": 21,
     "metadata": {},
     "output_type": "execute_result"
    }
   ],
   "source": [
    "accepted_raw.isna().sum().sort_values(ascending = True)"
   ]
  },
  {
   "cell_type": "code",
   "execution_count": 22,
   "metadata": {},
   "outputs": [],
   "source": [
    "# Sample of 10,000\n",
    "clean_sample = accepted_raw.sample(n=600,replace=False)"
   ]
  },
  {
   "cell_type": "code",
   "execution_count": 23,
   "metadata": {},
   "outputs": [],
   "source": [
    "y_ = clean_sample['loan_status']\n",
    "clean_sample = clean_sample.drop('loan_status', axis = 1)\n",
    "X_ = pd.get_dummies(clean_sample, drop_first= True)\n",
    "\n",
    "X_train,X_test,y_train,y_test=train_test_split(X_,y_,test_size=0.5,random_state=100)"
   ]
  },
  {
   "cell_type": "code",
   "execution_count": 24,
   "metadata": {},
   "outputs": [
    {
     "data": {
      "text/plain": [
       "(300, 165)"
      ]
     },
     "execution_count": 24,
     "metadata": {},
     "output_type": "execute_result"
    }
   ],
   "source": [
    "X_train.shape"
   ]
  },
  {
   "cell_type": "code",
   "execution_count": 25,
   "metadata": {},
   "outputs": [
    {
     "data": {
      "text/plain": [
       "(300, 165)"
      ]
     },
     "execution_count": 25,
     "metadata": {},
     "output_type": "execute_result"
    }
   ],
   "source": [
    "X_test.shape"
   ]
  },
  {
   "cell_type": "code",
   "execution_count": 26,
   "metadata": {},
   "outputs": [
    {
     "data": {
      "text/plain": [
       "1    295\n",
       "0      5\n",
       "Name: loan_status, dtype: int64"
      ]
     },
     "execution_count": 26,
     "metadata": {},
     "output_type": "execute_result"
    }
   ],
   "source": [
    "y_train.value_counts()"
   ]
  },
  {
   "cell_type": "code",
   "execution_count": 27,
   "metadata": {},
   "outputs": [
    {
     "data": {
      "text/plain": [
       "1    297\n",
       "0      3\n",
       "Name: loan_status, dtype: int64"
      ]
     },
     "execution_count": 27,
     "metadata": {},
     "output_type": "execute_result"
    }
   ],
   "source": [
    "y_test.value_counts()"
   ]
  },
  {
   "attachments": {},
   "cell_type": "markdown",
   "metadata": {},
   "source": [
    "# Fit and tune models"
   ]
  },
  {
   "cell_type": "code",
   "execution_count": 28,
   "metadata": {},
   "outputs": [],
   "source": [
    "import matplotlib.pyplot as plt\n",
    "import xgboost as xgb\n",
    "from sklearn.linear_model import LogisticRegression\n",
    "from sklearn.model_selection import GridSearchCV\n",
    "from sklearn.metrics import roc_curve, auc, f1_score, precision_score, make_scorer\n",
    "from sklearn.ensemble import RandomForestClassifier\n",
    "from sklearn.ensemble import VotingClassifier\n"
   ]
  },
  {
   "cell_type": "code",
   "execution_count": 29,
   "metadata": {},
   "outputs": [
    {
     "name": "stdout",
     "output_type": "stream",
     "text": [
      "Best Params:  {'C': 100.0, 'fit_intercept': True, 'max_iter': 100, 'penalty': 'l1', 'solver': 'liblinear', 'tol': 0.001}\n"
     ]
    },
    {
     "data": {
      "image/png": "[encoded data removed]",
      "text/plain": [
       "<Figure size 576x432 with 1 Axes>"
      ]
     },
     "metadata": {
      "needs_background": "light"
     },
     "output_type": "display_data"
    },
    {
     "data": {
      "text/plain": [
       "[0.6632996632996633, 0.9932659932659933, 0.9932659932659933]"
      ]
     },
     "execution_count": 29,
     "metadata": {},
     "output_type": "execute_result"
    }
   ],
   "source": [
    "# Logistic regression\n",
    "def logistic_regression_model(X_train, X_test, y_train, y_test, param_grid):\n",
    "\n",
    "    # Create a logistic regression object\n",
    "    lr = LogisticRegression()\n",
    "\n",
    "    # Create a GridSearchCV object\n",
    "    grid_lr = GridSearchCV(lr, param_grid, cv=5, scoring=['roc_auc', 'f1', 'precision'], refit='roc_auc')\n",
    "\n",
    "    # Fit the GridSearchCV object on the training data\n",
    "    grid_lr.fit(X_train, y_train)\n",
    "\n",
    "\n",
    "    # Compute the F1 score for the best model on the testing data\n",
    "    y_pred = grid_lr.predict(X_test)\n",
    "    auc_score = roc_auc_score(y_test, y_pred)\n",
    "    f1 = f1_score(y_test, y_pred)\n",
    "    precision = precision_score(y_test, y_pred)\n",
    "\n",
    "    # Plot ROC curve\n",
    "    y_prob = grid_lr.predict_proba(X_test)[:, 1]\n",
    "    fpr, tpr, _ = roc_curve(y_test, y_prob)\n",
    "\n",
    "    print('Best Params: ', grid_lr.best_params_)\n",
    "\n",
    "    plt.figure(figsize=(8,6))      # format the plot size\n",
    "    lw = 1.5\n",
    "    plt.plot(fpr, tpr, color='darkorange', marker='.',\n",
    "            lw=lw, label='Logistic Regression (AUC = %0.4f)' % auc_score)\n",
    "    plt.plot([0, 1], [0, 1], color='navy', lw=lw, linestyle='--',\n",
    "            label='Random Prediction (AUC = 0.5)' )\n",
    "    plt.xlim([0.0, 1.0])\n",
    "    plt.ylim([0.0, 1.0])\n",
    "    plt.xlabel('False Positive Rate')\n",
    "    plt.ylabel('True Positive Rate')\n",
    "    plt.title('Receiver operating characteristic curve')\n",
    "    plt.legend(loc=\"lower right\")\n",
    "    plt.show()\n",
    "\n",
    "    # Return the AUC ROC plot and performance measures\n",
    "    return [auc_score, f1, precision]\n",
    "\n",
    "lr_param_grid = {'penalty': ['l1', 'l2'],\n",
    "                'C': np.logspace(-3, 3, 7),\n",
    "                'solver': ['liblinear'],\n",
    "                'fit_intercept': [True, False],\n",
    "                'max_iter': [100, 500, 1000],\n",
    "                'tol': [1e-4, 1e-3, 1e-2]}\n",
    "\n",
    "lrm = logistic_regression_model(X_train, X_test, y_train, y_test, lr_param_grid)\n",
    "lrm"
   ]
  },
  {
   "cell_type": "code",
   "execution_count": 30,
   "metadata": {},
   "outputs": [
    {
     "name": "stdout",
     "output_type": "stream",
     "text": [
      "Best Params:  {'max_depth': 5, 'max_features': 'sqrt', 'min_samples_leaf': 1, 'min_samples_split': 2, 'n_estimators': 300}\n"
     ]
    },
    {
     "data": {
      "image/png": "[encoded data removed]",
      "text/plain": [
       "<Figure size 576x432 with 1 Axes>"
      ]
     },
     "metadata": {
      "needs_background": "light"
     },
     "output_type": "display_data"
    },
    {
     "data": {
      "text/plain": [
       "[0.5, 0.9949748743718593, 0.99]"
      ]
     },
     "execution_count": 30,
     "metadata": {},
     "output_type": "execute_result"
    }
   ],
   "source": [
    "# Random Forest\n",
    "def random_forest_classifier(X_train, X_test, y_train, y_test, param_grid):\n",
    "    # Create Random Forest Classifier object\n",
    "    rf = RandomForestClassifier()\n",
    "    grid_rf = GridSearchCV(rf, param_grid, cv=5, scoring=['roc_auc', 'f1', 'precision'], refit='roc_auc')\n",
    "    grid_rf.fit(X_train, y_train)\n",
    "\n",
    "    # Obtain performance measures\n",
    "    y_pred = grid_rf.predict(X_test)\n",
    "    auc_score = roc_auc_score(y_test, y_pred)\n",
    "    f1 = f1_score(y_test, y_pred)\n",
    "    precision = precision_score(y_test, y_pred)\n",
    "    \n",
    "    # Plot ROC curve\n",
    "    y_prob = grid_rf.predict_proba(X_test)[:, 1]\n",
    "    fpr, tpr, _ = roc_curve(y_test, y_prob)\n",
    "\n",
    "    print('Best Params: ', grid_rf.best_params_)\n",
    "\n",
    "    plt.figure(figsize=(8,6))      # format the plot size\n",
    "    lw = 1.5\n",
    "    plt.plot(fpr, tpr, color='darkorange', marker='.',\n",
    "            lw=lw, label='Random Forest (AUC = %0.4f)' % auc_score)\n",
    "    plt.plot([0, 1], [0, 1], color='navy', lw=lw, linestyle='--',\n",
    "            label='Random Prediction (AUC = 0.5)' )\n",
    "    plt.xlim([0.0, 1.0])\n",
    "    plt.ylim([0.0, 1.0])\n",
    "    plt.xlabel('False Positive Rate')\n",
    "    plt.ylabel('True Positive Rate')\n",
    "    plt.title('Receiver operating characteristic curve')\n",
    "    plt.legend(loc=\"lower right\")\n",
    "    plt.show()\n",
    "\n",
    "    \n",
    "    # Return the AUC ROC plot and performance measures\n",
    "    return [auc_score, f1, precision]\n",
    "\n",
    "rf_param_grid = {\n",
    "    'n_estimators': [100, 300, 500],\n",
    "    'max_depth': [5, 10, 20],\n",
    "    'min_samples_split': [2, 5, 10],\n",
    "    'min_samples_leaf': [1, 2, 4],\n",
    "    'max_features': ['sqrt', 'log2', None]}\n",
    "\n",
    "rfm = random_forest_classifier(X_train, X_test, y_train, y_test, rf_param_grid)\n",
    "rfm"
   ]
  },
  {
   "cell_type": "code",
   "execution_count": 31,
   "metadata": {},
   "outputs": [
    {
     "name": "stdout",
     "output_type": "stream",
     "text": [
      "Best Params:  {'learning_rate': 0.2, 'max_depth': 3, 'n_estimators': 100}\n"
     ]
    },
    {
     "data": {
      "image/png": "[encoded data removed]",
      "text/plain": [
       "<Figure size 576x432 with 1 Axes>"
      ]
     },
     "metadata": {
      "needs_background": "light"
     },
     "output_type": "display_data"
    },
    {
     "data": {
      "text/plain": [
       "[0.6666666666666667, 0.9966442953020134, 0.9933110367892977]"
      ]
     },
     "execution_count": 31,
     "metadata": {},
     "output_type": "execute_result"
    }
   ],
   "source": [
    "def xgboost_classifier(X_train, X_test, y_train, y_test, param_grid):\n",
    "\n",
    "    # Create a XGB Classifier object\n",
    "    xgb_ = xgb.XGBClassifier()\n",
    "    grid_xgb = GridSearchCV(xgb_, param_grid, cv=5, scoring=['roc_auc', 'f1', 'precision'], refit='roc_auc')\n",
    "    grid_xgb.fit(X_train, y_train)\n",
    "    \n",
    "    # Obtain performance measures\n",
    "    y_pred = grid_xgb.predict(X_test)\n",
    "    auc_score = roc_auc_score(y_test, y_pred)\n",
    "    f1 = f1_score(y_test, y_pred)\n",
    "    precision = precision_score(y_test, y_pred)\n",
    "    \n",
    "    # Plot ROC curve\n",
    "    y_prob = grid_xgb.predict_proba(X_test)[:, 1]\n",
    "    fpr, tpr, _ = roc_curve(y_test, y_prob)\n",
    "\n",
    "    print('Best Params: ', grid_xgb.best_params_)\n",
    "\n",
    "    plt.figure(figsize=(8,6))      # format the plot size\n",
    "    lw = 1.5\n",
    "    plt.plot(fpr, tpr, color='darkorange', marker='.',\n",
    "            lw=lw, label='XGBoost Classifier (AUC = %0.4f)' % auc_score)\n",
    "    plt.plot([0, 1], [0, 1], color='navy', lw=lw, linestyle='--',\n",
    "            label='Random Prediction (AUC = 0.5)' )\n",
    "    plt.xlim([0.0, 1.0])\n",
    "    plt.ylim([0.0, 1.0])\n",
    "    plt.xlabel('False Positive Rate')\n",
    "    plt.ylabel('True Positive Rate')\n",
    "    plt.title('Receiver operating characteristic curve')\n",
    "    plt.legend(loc=\"lower right\")\n",
    "    plt.show()\n",
    "\n",
    "    # Return the AUC ROC plot and performance measures\n",
    "    return [auc_score, f1, precision]\n",
    "\n",
    "param_grid = {\n",
    "    'max_depth': [3, 4, 5],\n",
    "    'learning_rate': [0.01, 0.1, 0.2],\n",
    "    'n_estimators': [100, 500, 1000]}\n",
    "\n",
    "\n",
    "xgbm = xgboost_classifier(X_train, X_test, y_train, y_test, param_grid)\n",
    "xgbm"
   ]
  },
  {
   "cell_type": "code",
   "execution_count": 32,
   "metadata": {},
   "outputs": [
    {
     "name": "stdout",
     "output_type": "stream",
     "text": [
      "Fitting 5 folds for each of 81 candidates, totalling 405 fits\n"
     ]
    },
    {
     "data": {
      "image/png": "[encoded data removed]",
      "text/plain": [
       "<Figure size 576x432 with 1 Axes>"
      ]
     },
     "metadata": {
      "needs_background": "light"
     },
     "output_type": "display_data"
    },
    {
     "data": {
      "text/plain": [
       "[0.5, 0.9949748743718593, 0.99]"
      ]
     },
     "execution_count": 32,
     "metadata": {},
     "output_type": "execute_result"
    }
   ],
   "source": [
    "from sklearn import preprocessing\n",
    "from sklearn import utils\n",
    "\n",
    "models_ = [('lrm', LogisticRegression()), ('rfm', RandomForestClassifier()), ('xgbm', xgb.XGBClassifier())]\n",
    "\n",
    "def ensemble_model(X_train, X_test, y_train, y_test, params):\n",
    "\n",
    "    # Define models\n",
    "    clf1 = LogisticRegression()\n",
    "    clf2 = RandomForestClassifier()\n",
    "    clf3 = xgb.XGBClassifier()\n",
    "    estimators = [\n",
    "                ('lr', clf1),\n",
    "                ('rf', clf2),\n",
    "                ('xgb', clf3)]\n",
    "    eclf = VotingClassifier(estimators=estimators)\n",
    "    grid = GridSearchCV(estimator=eclf, param_grid=params,verbose=2, cv=5,n_jobs=-1)\n",
    "    grid.fit(X_train, y_train)\n",
    "\n",
    "    # grid_search.fit(X_train, y_train)\n",
    "\n",
    "    # Evaluate on test data\n",
    "    y_pred = grid.predict(X_test)\n",
    "    fpr, tpr, _ = roc_curve(y_test, y_pred)\n",
    "    auc_score = roc_auc_score(y_test, y_pred)\n",
    "    f1 = f1_score(y_test, y_pred)\n",
    "    precision = precision_score(y_test, y_pred)\n",
    "\n",
    "    # Plot ROC curve\n",
    "    plt.figure(figsize=(8,6))      # format the plot size\n",
    "    lw = 1.5\n",
    "    plt.plot(fpr, tpr, color='darkorange', marker='.',\n",
    "            lw=lw, label='Ensemble Model (AUC = %0.4f)' % auc_score)\n",
    "    plt.plot([0, 1], [0, 1], color='navy', lw=lw, linestyle='--',\n",
    "            label='Random Prediction (AUC = 0.5)' )\n",
    "    plt.xlim([0.0, 1.0])\n",
    "    plt.ylim([0.0, 1.0])\n",
    "    plt.xlabel('False Positive Rate')\n",
    "    plt.ylabel('True Positive Rate')\n",
    "    plt.title('Receiver operating characteristic curve')\n",
    "    plt.legend(loc=\"lower right\")\n",
    "    plt.show()\n",
    "\n",
    "    # Return the AUC ROC plot and performance measures\n",
    "    return [auc_score, f1, precision]\n",
    "\n",
    "\n",
    "# Define the models to include in the ensemble\n",
    "param_grid = {\n",
    "    'lr__C': [0.1, 1.0, 10.0],\n",
    "    'rf__n_estimators': [50, 100, 200],\n",
    "    'xgb__learning_rate': [0.1, 0.01, 0.001],\n",
    "    'xgb__max_depth': [3, 5, 7]\n",
    "}\n",
    "\n",
    "\n",
    "\n",
    "# # Call the ensemble_model function\n",
    "enm = ensemble_model(X_train,  X_test, y_train, y_test, param_grid)\n",
    "enm"
   ]
  },
  {
   "cell_type": "code",
   "execution_count": 33,
   "metadata": {},
   "outputs": [
    {
     "name": "stdout",
     "output_type": "stream",
     "text": [
      "INFO:tensorflow:Reloading Tuner from 6.18\\LendingClubNN\\tuner0.json\n",
      "INFO:tensorflow:Oracle triggered exit\n",
      "val_auc\n",
      "10/10 [==============================] - 0s 556us/step\n",
      "<keras_tuner.engine.hyperparameters.hyperparameters.HyperParameters object at 0x000002598B9FC3D0>\n"
     ]
    },
    {
     "data": {
      "image/png": "[encoded data removed]",
      "text/plain": [
       "<Figure size 576x432 with 1 Axes>"
      ]
     },
     "metadata": {
      "needs_background": "light"
     },
     "output_type": "display_data"
    },
    {
     "data": {
      "text/plain": [
       "(0.5740740740740741, 0.9932885906040269, 0.9899665551839465)"
      ]
     },
     "execution_count": 33,
     "metadata": {},
     "output_type": "execute_result"
    }
   ],
   "source": [
    "import kerastuner.tuners as kt\n",
    "\n",
    "def model_builder(hp):\n",
    "        model = keras.Sequential()\n",
    "        model.add(keras.layers.Flatten(input_shape=(165, )))\n",
    "\n",
    "        # Tune the number of units in the first Dense layer, optimal value between 32-512\n",
    "        hp_units = hp.Int('units', min_value=32, max_value=512, step=32)\n",
    "        model.add(keras.layers.Dense(units=hp_units, activation='sigmoid'))\n",
    "        model.add(keras.layers.Dense(1))\n",
    "\n",
    "        # Tune the learning rate for the optimizer, optimal value from 0.01, 0.001, or 0.0001\n",
    "        hp_learning_rate = hp.Choice('learning_rate', values=[1e-2, 1e-3, 1e-4])\n",
    "\n",
    "        model.compile(optimizer=keras.optimizers.Adam(learning_rate=hp_learning_rate),\n",
    "                        loss= 'mae',\n",
    "                        metrics=[tf.keras.metrics.AUC(from_logits=True),tf.keras.metrics.Precision(thresholds=0)])\n",
    "\n",
    "        return model\n",
    "\n",
    "def remove_suffix(string):\n",
    "    \"\"\"\n",
    "    Removes a suffix from a string.\n",
    "    \n",
    "    Args:\n",
    "        string (str): A string.\n",
    "    \n",
    "    Returns:\n",
    "        A string with suffix removed.\n",
    "    \"\"\"\n",
    "    if \"_\" in string:\n",
    "        parts = string.split(\"_\")\n",
    "        if len(parts) > 1 and parts[-1].isdigit():\n",
    "            new_string = \"_\".join(parts[:-1])\n",
    "        else:\n",
    "            new_string = string\n",
    "    else:\n",
    "        new_string = string\n",
    "    return new_string\n",
    "\n",
    "\n",
    "\n",
    "def fit_nn_model(X_train, X_test, y_train, y_test):\n",
    "\n",
    "        # Divide training set into training and validation set\n",
    "        X_train,X_val,y_train,y_val=train_test_split(X_train,y_train,test_size=0.5,random_state=100)\n",
    "\n",
    "        tuner = kt.Hyperband(\n",
    "        model_builder, \n",
    "        objective = 'loss',\n",
    "        executions_per_trial = 3,\n",
    "        directory = '6.18',\n",
    "        project_name='LendingClubNN'\n",
    "        )\n",
    "\n",
    "\n",
    "        # Tune on train/val data\n",
    "        tuner.search(X_train, \n",
    "                y_train, \n",
    "                epochs=50, \n",
    "                validation_data=(X_val, y_val))\n",
    "\n",
    "        # Get the optimal hyperparameters\n",
    "        best_hps=tuner.get_best_hyperparameters(num_trials=1)[0]\n",
    "        model = tuner.hypermodel.build(best_hps)\n",
    "        history = model.fit(X_train, y_train, epochs=100, validation_split=0.5, verbose=0)\n",
    "\n",
    "        auc = 0\n",
    "\n",
    "        for i in (history.history.keys()):\n",
    "                if remove_suffix(i) == 'val_auc':\n",
    "                     print(remove_suffix(i))\n",
    "                     auc = history.history[i]\n",
    "\n",
    "        # Tune model based on validation accuracy\n",
    "        auc_per_epoch = auc\n",
    "        best_epoch = auc_per_epoch.index(max(auc)) + 1\n",
    "\n",
    "\n",
    "        # # Reinstantiating models from above\n",
    "        hypermodel_btc = tuner.hypermodel.build(best_hps)\n",
    "        hypermodel_btc.fit(X_train, y_train, epochs=best_epoch, validation_split=0.5, verbose =0)\n",
    "\n",
    "        # Make predictions on the test data\n",
    "        y_pred_prob = model.predict(X_test)\n",
    "\n",
    "        # Compute the performance measures\n",
    "        fpr, tpr, _ = roc_curve(y_test, y_pred_prob)\n",
    "        auc_score = roc_auc_score(y_test, y_pred_prob)\n",
    "        f1 = f1_score(y_test, y_pred_prob > 0.5)\n",
    "        precision = precision_score(y_test, y_pred_prob > 0.5)\n",
    "        \n",
    "        print(best_hps)\n",
    "\n",
    "        plt.figure(figsize=(8,6))      # format the plot size\n",
    "        lw = 1.5\n",
    "        plt.plot(fpr, tpr, color='darkorange', marker='.',\n",
    "                lw=lw, label='NN Model (AUC = %0.4f)' % auc_score)\n",
    "        plt.plot([0, 1], [0, 1], color='navy', lw=lw, linestyle='--',\n",
    "                label='Random Prediction (AUC = 0.5)' )\n",
    "        plt.xlim([0.0, 1.0])\n",
    "        plt.ylim([0.0, 1.0])\n",
    "        plt.xlabel('False Positive Rate')\n",
    "        plt.ylabel('True Positive Rate')\n",
    "        plt.title('Receiver operating characteristic curve')\n",
    "        plt.legend(loc=\"lower right\")\n",
    "        plt.show()\n",
    "\n",
    "        return auc_score, f1, precision\n",
    "\n",
    "nnm = fit_nn_model(X_train, X_test, y_train,  y_test)\n",
    "nnm\n"
   ]
  },
  {
   "attachments": {},
   "cell_type": "markdown",
   "metadata": {},
   "source": [
    "# Model Comparison"
   ]
  },
  {
   "cell_type": "code",
   "execution_count": 34,
   "metadata": {},
   "outputs": [
    {
     "data": {
      "image/png": "[encoded data removed]",
      "text/plain": [
       "<Figure size 507.5x288 with 1 Axes>"
      ]
     },
     "metadata": {
      "needs_background": "light"
     },
     "output_type": "display_data"
    }
   ],
   "source": [
    "def plot_model_performance(model_list):\n",
    "    # Create a list of the performance metrics\n",
    "    metrics = ['AUC Score', 'F1 Score', 'Precision']\n",
    "    \n",
    "    # Create a dataframe to hold the performance values for each model\n",
    "    data = []\n",
    "    for i, model in enumerate(model_list):\n",
    "        for j, metric in enumerate(metrics):\n",
    "            data.append({'Model': 'Model ' + str(i+1), 'Metric': metric, 'Value': model[j]})\n",
    "    df = pd.DataFrame(data)\n",
    "    \n",
    "    # Create the three plots using seaborn\n",
    "    sns.set_palette(sns.color_palette(\"husl\", len(model_list)))\n",
    "    g = sns.catplot(x='Metric', y='Value', hue='Model', data=df, kind='bar', height=4, aspect=1.5)\n",
    "    g.despine(left=True)\n",
    "    g.set_ylabels('Performance')\n",
    "    \n",
    "    # Add labels to the bars\n",
    "    for ax in g.axes.flat:\n",
    "        for p in ax.patches:\n",
    "            ax.annotate(\"{:.2f}\".format(p.get_height()), (p.get_x() + p.get_width() / 2., p.get_height()),\n",
    "                        ha='center', va='center', fontsize=11, color='gray', xytext=(0, 5),\n",
    "                        textcoords='offset points')\n",
    "    \n",
    "    plt.show()\n",
    "\n",
    "\n",
    "model_list = [lrm, rfm, xgbm, enm ,nnm]\n",
    "plot_model_performance(model_list)"
   ]
  },
  {
   "attachments": {},
   "cell_type": "markdown",
   "metadata": {},
   "source": [
    "# Determining the best model\n",
    "\n",
    "\n",
    "In terms of AUC, the best performing models are XGBoost Classifier followed closely by the Logistic Regression model, the F1 and Precision scores seem to have been attenuated by the large imbalance of data. "
   ]
  }
 ],
 "metadata": {
  "kernelspec": {
   "display_name": "Python 3",
   "language": "python",
   "name": "python3"
  },
  "language_info": {
   "codemirror_mode": {
    "name": "ipython",
    "version": 3
   },
   "file_extension": ".py",
   "mimetype": "text/x-python",
   "name": "python",
   "nbconvert_exporter": "python",
   "pygments_lexer": "ipython3",
   "version": "3.10.7"
  },
  "orig_nbformat": 4
 },
 "nbformat": 4,
 "nbformat_minor": 2
}
